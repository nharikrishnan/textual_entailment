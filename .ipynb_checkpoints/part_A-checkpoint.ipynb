{
 "cells": [
  {
   "cell_type": "markdown",
   "metadata": {},
   "source": [
    "# Assignment 2"
   ]
  },
  {
   "cell_type": "code",
   "execution_count": 3,
   "metadata": {},
   "outputs": [],
   "source": [
    "#import statements\n",
    "import pandas as pd\n",
    "import numpy as np\n",
    "import keras\n",
    "import nltk\n",
    "from nltk.tokenize import word_tokenize\n",
    "import os\n",
    "import numpy as np\n",
    "import pandas as pd\n",
    "import matplotlib.pyplot as plt\n",
    "\n",
    "#importing required functions from keras\n",
    "import keras\n",
    "from keras.preprocessing.text import Tokenizer\n",
    "from keras.preprocessing.sequence import pad_sequences\n",
    "from keras.layers import Dense, Input, GlobalMaxPooling1D\n",
    "from keras.layers import Conv1D, MaxPooling1D, Embedding\n",
    "from keras.models import Model\n",
    "from sklearn.metrics import roc_auc_score\n",
    "from keras import layers\n",
    "import keras.backend as K\n",
    "\n",
    "#importing libraries required for preprocessing\n",
    "import re\n",
    "from bs4 import BeautifulSoup\n",
    "from sklearn.preprocessing import LabelEncoder\n",
    "pd.set_option('display.max_colwidth', -1)\n",
    "from sklearn.model_selection import train_test_split\n",
    "\n",
    "# importing the required util function\n",
    "import functions.utils\n",
    "from functions.utils import *\n",
    "from functions.utils import clean_text\n",
    "from functions.utils import load_embedding, create_embedding_weights, max_seq_len\n",
    "from keras.utils import to_categorical, plot_model"
   ]
  },
  {
   "cell_type": "markdown",
   "metadata": {},
   "source": [
    "<p><font size = 4> Loading the required data sets from the specified URLs</p>"
   ]
  },
  {
   "cell_type": "code",
   "execution_count": 5,
   "metadata": {},
   "outputs": [
    {
     "ename": "FileNotFoundError",
     "evalue": "[Errno 2] File b'data/Temp/test_anno.txt' does not exist: b'data/Temp/test_anno.txt'",
     "output_type": "error",
     "traceback": [
      "\u001b[1;31m---------------------------------------------------------------------------\u001b[0m",
      "\u001b[1;31mFileNotFoundError\u001b[0m                         Traceback (most recent call last)",
      "\u001b[1;32m<ipython-input-5-cba662e5e179>\u001b[0m in \u001b[0;36m<module>\u001b[1;34m\u001b[0m\n\u001b[0;32m      2\u001b[0m \u001b[1;31m#df = pd.read_csv('../sick.csv')\u001b[0m\u001b[1;33m\u001b[0m\u001b[1;33m\u001b[0m\u001b[1;33m\u001b[0m\u001b[0m\n\u001b[0;32m      3\u001b[0m \u001b[0mtrain\u001b[0m \u001b[1;33m=\u001b[0m \u001b[0mpd\u001b[0m\u001b[1;33m.\u001b[0m\u001b[0mread_csv\u001b[0m\u001b[1;33m(\u001b[0m\u001b[1;34m'data/train.txt'\u001b[0m\u001b[1;33m,\u001b[0m \u001b[0mdelimiter\u001b[0m \u001b[1;33m=\u001b[0m \u001b[1;34m'\\t'\u001b[0m\u001b[1;33m)\u001b[0m\u001b[1;33m\u001b[0m\u001b[1;33m\u001b[0m\u001b[0m\n\u001b[1;32m----> 4\u001b[1;33m \u001b[0mtest\u001b[0m \u001b[1;33m=\u001b[0m \u001b[0mpd\u001b[0m\u001b[1;33m.\u001b[0m\u001b[0mread_csv\u001b[0m\u001b[1;33m(\u001b[0m\u001b[1;34m'data/Temp/test_anno.txt'\u001b[0m\u001b[1;33m,\u001b[0m \u001b[0mdelimiter\u001b[0m \u001b[1;33m=\u001b[0m \u001b[1;34m'\\t'\u001b[0m\u001b[1;33m)\u001b[0m\u001b[1;33m\u001b[0m\u001b[1;33m\u001b[0m\u001b[0m\n\u001b[0m\u001b[0;32m      5\u001b[0m \u001b[0mtrial\u001b[0m \u001b[1;33m=\u001b[0m \u001b[0mpd\u001b[0m\u001b[1;33m.\u001b[0m\u001b[0mread_csv\u001b[0m\u001b[1;33m(\u001b[0m\u001b[1;34m'data/trial.txt'\u001b[0m\u001b[1;33m,\u001b[0m \u001b[0mdelimiter\u001b[0m \u001b[1;33m=\u001b[0m \u001b[1;34m'\\t'\u001b[0m\u001b[1;33m)\u001b[0m\u001b[1;33m\u001b[0m\u001b[1;33m\u001b[0m\u001b[0m\n\u001b[0;32m      6\u001b[0m \u001b[1;31m#train, test = train_test_split(df, test_size=0.50)\u001b[0m\u001b[1;33m\u001b[0m\u001b[1;33m\u001b[0m\u001b[1;33m\u001b[0m\u001b[0m\n",
      "\u001b[1;32m~\\Anaconda3\\lib\\site-packages\\pandas\\io\\parsers.py\u001b[0m in \u001b[0;36mparser_f\u001b[1;34m(filepath_or_buffer, sep, delimiter, header, names, index_col, usecols, squeeze, prefix, mangle_dupe_cols, dtype, engine, converters, true_values, false_values, skipinitialspace, skiprows, skipfooter, nrows, na_values, keep_default_na, na_filter, verbose, skip_blank_lines, parse_dates, infer_datetime_format, keep_date_col, date_parser, dayfirst, cache_dates, iterator, chunksize, compression, thousands, decimal, lineterminator, quotechar, quoting, doublequote, escapechar, comment, encoding, dialect, error_bad_lines, warn_bad_lines, delim_whitespace, low_memory, memory_map, float_precision)\u001b[0m\n\u001b[0;32m    683\u001b[0m         )\n\u001b[0;32m    684\u001b[0m \u001b[1;33m\u001b[0m\u001b[0m\n\u001b[1;32m--> 685\u001b[1;33m         \u001b[1;32mreturn\u001b[0m \u001b[0m_read\u001b[0m\u001b[1;33m(\u001b[0m\u001b[0mfilepath_or_buffer\u001b[0m\u001b[1;33m,\u001b[0m \u001b[0mkwds\u001b[0m\u001b[1;33m)\u001b[0m\u001b[1;33m\u001b[0m\u001b[1;33m\u001b[0m\u001b[0m\n\u001b[0m\u001b[0;32m    686\u001b[0m \u001b[1;33m\u001b[0m\u001b[0m\n\u001b[0;32m    687\u001b[0m     \u001b[0mparser_f\u001b[0m\u001b[1;33m.\u001b[0m\u001b[0m__name__\u001b[0m \u001b[1;33m=\u001b[0m \u001b[0mname\u001b[0m\u001b[1;33m\u001b[0m\u001b[1;33m\u001b[0m\u001b[0m\n",
      "\u001b[1;32m~\\Anaconda3\\lib\\site-packages\\pandas\\io\\parsers.py\u001b[0m in \u001b[0;36m_read\u001b[1;34m(filepath_or_buffer, kwds)\u001b[0m\n\u001b[0;32m    455\u001b[0m \u001b[1;33m\u001b[0m\u001b[0m\n\u001b[0;32m    456\u001b[0m     \u001b[1;31m# Create the parser.\u001b[0m\u001b[1;33m\u001b[0m\u001b[1;33m\u001b[0m\u001b[1;33m\u001b[0m\u001b[0m\n\u001b[1;32m--> 457\u001b[1;33m     \u001b[0mparser\u001b[0m \u001b[1;33m=\u001b[0m \u001b[0mTextFileReader\u001b[0m\u001b[1;33m(\u001b[0m\u001b[0mfp_or_buf\u001b[0m\u001b[1;33m,\u001b[0m \u001b[1;33m**\u001b[0m\u001b[0mkwds\u001b[0m\u001b[1;33m)\u001b[0m\u001b[1;33m\u001b[0m\u001b[1;33m\u001b[0m\u001b[0m\n\u001b[0m\u001b[0;32m    458\u001b[0m \u001b[1;33m\u001b[0m\u001b[0m\n\u001b[0;32m    459\u001b[0m     \u001b[1;32mif\u001b[0m \u001b[0mchunksize\u001b[0m \u001b[1;32mor\u001b[0m \u001b[0miterator\u001b[0m\u001b[1;33m:\u001b[0m\u001b[1;33m\u001b[0m\u001b[1;33m\u001b[0m\u001b[0m\n",
      "\u001b[1;32m~\\Anaconda3\\lib\\site-packages\\pandas\\io\\parsers.py\u001b[0m in \u001b[0;36m__init__\u001b[1;34m(self, f, engine, **kwds)\u001b[0m\n\u001b[0;32m    893\u001b[0m             \u001b[0mself\u001b[0m\u001b[1;33m.\u001b[0m\u001b[0moptions\u001b[0m\u001b[1;33m[\u001b[0m\u001b[1;34m\"has_index_names\"\u001b[0m\u001b[1;33m]\u001b[0m \u001b[1;33m=\u001b[0m \u001b[0mkwds\u001b[0m\u001b[1;33m[\u001b[0m\u001b[1;34m\"has_index_names\"\u001b[0m\u001b[1;33m]\u001b[0m\u001b[1;33m\u001b[0m\u001b[1;33m\u001b[0m\u001b[0m\n\u001b[0;32m    894\u001b[0m \u001b[1;33m\u001b[0m\u001b[0m\n\u001b[1;32m--> 895\u001b[1;33m         \u001b[0mself\u001b[0m\u001b[1;33m.\u001b[0m\u001b[0m_make_engine\u001b[0m\u001b[1;33m(\u001b[0m\u001b[0mself\u001b[0m\u001b[1;33m.\u001b[0m\u001b[0mengine\u001b[0m\u001b[1;33m)\u001b[0m\u001b[1;33m\u001b[0m\u001b[1;33m\u001b[0m\u001b[0m\n\u001b[0m\u001b[0;32m    896\u001b[0m \u001b[1;33m\u001b[0m\u001b[0m\n\u001b[0;32m    897\u001b[0m     \u001b[1;32mdef\u001b[0m \u001b[0mclose\u001b[0m\u001b[1;33m(\u001b[0m\u001b[0mself\u001b[0m\u001b[1;33m)\u001b[0m\u001b[1;33m:\u001b[0m\u001b[1;33m\u001b[0m\u001b[1;33m\u001b[0m\u001b[0m\n",
      "\u001b[1;32m~\\Anaconda3\\lib\\site-packages\\pandas\\io\\parsers.py\u001b[0m in \u001b[0;36m_make_engine\u001b[1;34m(self, engine)\u001b[0m\n\u001b[0;32m   1133\u001b[0m     \u001b[1;32mdef\u001b[0m \u001b[0m_make_engine\u001b[0m\u001b[1;33m(\u001b[0m\u001b[0mself\u001b[0m\u001b[1;33m,\u001b[0m \u001b[0mengine\u001b[0m\u001b[1;33m=\u001b[0m\u001b[1;34m\"c\"\u001b[0m\u001b[1;33m)\u001b[0m\u001b[1;33m:\u001b[0m\u001b[1;33m\u001b[0m\u001b[1;33m\u001b[0m\u001b[0m\n\u001b[0;32m   1134\u001b[0m         \u001b[1;32mif\u001b[0m \u001b[0mengine\u001b[0m \u001b[1;33m==\u001b[0m \u001b[1;34m\"c\"\u001b[0m\u001b[1;33m:\u001b[0m\u001b[1;33m\u001b[0m\u001b[1;33m\u001b[0m\u001b[0m\n\u001b[1;32m-> 1135\u001b[1;33m             \u001b[0mself\u001b[0m\u001b[1;33m.\u001b[0m\u001b[0m_engine\u001b[0m \u001b[1;33m=\u001b[0m \u001b[0mCParserWrapper\u001b[0m\u001b[1;33m(\u001b[0m\u001b[0mself\u001b[0m\u001b[1;33m.\u001b[0m\u001b[0mf\u001b[0m\u001b[1;33m,\u001b[0m \u001b[1;33m**\u001b[0m\u001b[0mself\u001b[0m\u001b[1;33m.\u001b[0m\u001b[0moptions\u001b[0m\u001b[1;33m)\u001b[0m\u001b[1;33m\u001b[0m\u001b[1;33m\u001b[0m\u001b[0m\n\u001b[0m\u001b[0;32m   1136\u001b[0m         \u001b[1;32melse\u001b[0m\u001b[1;33m:\u001b[0m\u001b[1;33m\u001b[0m\u001b[1;33m\u001b[0m\u001b[0m\n\u001b[0;32m   1137\u001b[0m             \u001b[1;32mif\u001b[0m \u001b[0mengine\u001b[0m \u001b[1;33m==\u001b[0m \u001b[1;34m\"python\"\u001b[0m\u001b[1;33m:\u001b[0m\u001b[1;33m\u001b[0m\u001b[1;33m\u001b[0m\u001b[0m\n",
      "\u001b[1;32m~\\Anaconda3\\lib\\site-packages\\pandas\\io\\parsers.py\u001b[0m in \u001b[0;36m__init__\u001b[1;34m(self, src, **kwds)\u001b[0m\n\u001b[0;32m   1915\u001b[0m         \u001b[0mkwds\u001b[0m\u001b[1;33m[\u001b[0m\u001b[1;34m\"usecols\"\u001b[0m\u001b[1;33m]\u001b[0m \u001b[1;33m=\u001b[0m \u001b[0mself\u001b[0m\u001b[1;33m.\u001b[0m\u001b[0musecols\u001b[0m\u001b[1;33m\u001b[0m\u001b[1;33m\u001b[0m\u001b[0m\n\u001b[0;32m   1916\u001b[0m \u001b[1;33m\u001b[0m\u001b[0m\n\u001b[1;32m-> 1917\u001b[1;33m         \u001b[0mself\u001b[0m\u001b[1;33m.\u001b[0m\u001b[0m_reader\u001b[0m \u001b[1;33m=\u001b[0m \u001b[0mparsers\u001b[0m\u001b[1;33m.\u001b[0m\u001b[0mTextReader\u001b[0m\u001b[1;33m(\u001b[0m\u001b[0msrc\u001b[0m\u001b[1;33m,\u001b[0m \u001b[1;33m**\u001b[0m\u001b[0mkwds\u001b[0m\u001b[1;33m)\u001b[0m\u001b[1;33m\u001b[0m\u001b[1;33m\u001b[0m\u001b[0m\n\u001b[0m\u001b[0;32m   1918\u001b[0m         \u001b[0mself\u001b[0m\u001b[1;33m.\u001b[0m\u001b[0munnamed_cols\u001b[0m \u001b[1;33m=\u001b[0m \u001b[0mself\u001b[0m\u001b[1;33m.\u001b[0m\u001b[0m_reader\u001b[0m\u001b[1;33m.\u001b[0m\u001b[0munnamed_cols\u001b[0m\u001b[1;33m\u001b[0m\u001b[1;33m\u001b[0m\u001b[0m\n\u001b[0;32m   1919\u001b[0m \u001b[1;33m\u001b[0m\u001b[0m\n",
      "\u001b[1;32mpandas\\_libs\\parsers.pyx\u001b[0m in \u001b[0;36mpandas._libs.parsers.TextReader.__cinit__\u001b[1;34m()\u001b[0m\n",
      "\u001b[1;32mpandas\\_libs\\parsers.pyx\u001b[0m in \u001b[0;36mpandas._libs.parsers.TextReader._setup_parser_source\u001b[1;34m()\u001b[0m\n",
      "\u001b[1;31mFileNotFoundError\u001b[0m: [Errno 2] File b'data/Temp/test_anno.txt' does not exist: b'data/Temp/test_anno.txt'"
     ]
    }
   ],
   "source": [
    "# loading datasets\n",
    "#df = pd.read_csv('../sick.csv')\n",
    "train = pd.read_csv('data/train.txt', delimiter = '\\t')\n",
    "test = pd.read_csv('data/Temp/test_anno.txt', delimiter = '\\t')\n",
    "trial = pd.read_csv('data/trial.txt', delimiter = '\\t')\n",
    "#train, test = train_test_split(df, test_size=0.50)"
   ]
  },
  {
   "cell_type": "markdown",
   "metadata": {},
   "source": [
    "## Data Preprocessing"
   ]
  },
  {
   "cell_type": "markdown",
   "metadata": {},
   "source": [
    "<p><font size = 4> The data preprocessing consists of different steps</p>\n",
    "    <ul> <li>Data cleaning: Expansion of contractions and removal of special charecters</li>\n",
    "        <li> Loadin pre-trained word embbeding: Glove word embedding was used to create embedding matrics</li>\n",
    "        <li> tokenizing and Word embedding:Input data was tokenized and the converted to sequences and then padded a pre-trained word embedding was used to represent the weights</li>\n",
    "        </ul>"
   ]
  },
  {
   "cell_type": "markdown",
   "metadata": {},
   "source": [
    "### Data cleaning\n",
    "<p><font size = 4> For cleaning the data clean_text(text), a UDF which takes a text input and expands the contractions and removes special charecters, the function definition can be found in the utils.py file "
   ]
  },
  {
   "cell_type": "code",
   "execution_count": 3,
   "metadata": {},
   "outputs": [],
   "source": [
    "#Cleaning the data\n",
    "train['sentence_A'] = train['sentence_A'].apply(clean_text)\n",
    "train['sentence_B'] = train['sentence_B'].apply(clean_text)\n",
    "test['sentence_A'] = test['sentence_A'].apply(clean_text)\n",
    "test['sentence_B'] = test['sentence_B'].apply(clean_text)\n",
    "trial['sentence_A'] = trial['sentence_A'].apply(clean_text)\n",
    "trial['sentence_B'] = trial['sentence_B'].apply(clean_text)"
   ]
  },
  {
   "cell_type": "markdown",
   "metadata": {},
   "source": [
    "<p><font size =4> Encoding the class values: For encoding the class values the LabelEncoder() from scipy was used, it converts the class values to numbers"
   ]
  },
  {
   "cell_type": "code",
   "execution_count": 4,
   "metadata": {},
   "outputs": [],
   "source": [
    "#encoding the target feature\n",
    "lbl_enc = LabelEncoder()\n",
    "train['entailment_encoded'] = lbl_enc.fit_transform(train['entailment_judgment'])\n",
    "trial['entailment_encoded'] = lbl_enc.fit_transform(trial['entailment_judgment'])\n",
    "############################For now############################################\n",
    "test['entailment_encoded'] = lbl_enc.fit_transform(test['entailment_judgment'])"
   ]
  },
  {
   "cell_type": "markdown",
   "metadata": {},
   "source": [
    "### Tokenizing and embedding matrix\n",
    "\n",
    "<p><font size = 4> Creating the word embedding dictionary from a pretrained word embedding: The load embedding function loads a pretrained word embedding from a text file and creates a dictionary, with key as the word and word vector as value"
   ]
  },
  {
   "cell_type": "code",
   "execution_count": 5,
   "metadata": {},
   "outputs": [],
   "source": [
    "file_name = '../Assignment2/word_vecs/glove.6B.300d.txt'\n",
    "embeddings = load_embedding(file_name)"
   ]
  },
  {
   "cell_type": "markdown",
   "metadata": {},
   "source": [
    "<p> <font size = 4> Tokenizing the sentences and creating a sequence from the tokens: For Tokenizing the sentences Tokenizer() from keras was used, once the sentences were tokenized, text_to_sequence() function converts the tokens to sequence"
   ]
  },
  {
   "cell_type": "code",
   "execution_count": 6,
   "metadata": {},
   "outputs": [],
   "source": [
    "NUM_WORDS = len(embeddings) #200000\n",
    "sentences = (list(train['sentence_A']) + list(train['sentence_B']) + \n",
    "                       list(test['sentence_A']) + list(test['sentence_B'])+ \n",
    "                           list(trial['sentence_A']) + list(trial['sentence_B']))\n",
    "tokenize = Tokenizer(num_words = NUM_WORDS)\n",
    "tokenize.fit_on_texts(sentences)\n",
    "sent1_word_seq = tokenize.texts_to_sequences(train['sentence_A'])\n",
    "sent2_word_seq = tokenize.texts_to_sequences(train['sentence_B'])\n",
    "sent1_word_seq_test = tokenize.texts_to_sequences(test['sentence_A'])\n",
    "sent2_word_seq_test = tokenize.texts_to_sequences(test['sentence_B'])\n",
    "sent1_word_seq_trial = tokenize.texts_to_sequences(trial['sentence_A'])\n",
    "sent2_word_seq_trial = tokenize.texts_to_sequences(trial['sentence_B'])\n",
    "word_index = tokenize.word_index"
   ]
  },
  {
   "cell_type": "markdown",
   "metadata": {},
   "source": [
    "<p> <font size = 4> The create_embedding_weights() function creates  embedding weights matrix using the word embedding and the idexes of the corresponding words using the index of the sequences"
   ]
  },
  {
   "cell_type": "code",
   "execution_count": 7,
   "metadata": {},
   "outputs": [],
   "source": [
    "#Matrix with the embedding weights\n",
    "embedding_dim = 300\n",
    "embedding_weights = create_embedding_weights(embeddings, embedding_dim, word_index, NUM_WORDS)"
   ]
  },
  {
   "cell_type": "markdown",
   "metadata": {},
   "source": [
    "<p> <font size = 4> The max_seq_len(fuction) returns the maximum sequence length from the list of the sequences"
   ]
  },
  {
   "cell_type": "code",
   "execution_count": 8,
   "metadata": {},
   "outputs": [],
   "source": [
    "# extracting the maximum sequence length\n",
    "max_seq_length = max_seq_len(sent1_word_seq)\n",
    "max_seq_length = max_seq_len(sent2_word_seq, max_seq_length)\n",
    "max_seq_length = max_seq_len(sent1_word_seq_test, max_seq_length)\n",
    "max_seq_length = max_seq_len(sent2_word_seq_test, max_seq_length)\n",
    "max_seq_length = max_seq_len(sent1_word_seq_trial, max_seq_length)\n",
    "max_seq_length = max_seq_len(sent2_word_seq_trial, max_seq_length)"
   ]
  },
  {
   "cell_type": "markdown",
   "metadata": {},
   "source": [
    "<p> <font size = 4> As the sequences where in different lengths the sequences were padded to the maximum sequence length using the pad_sequences method"
   ]
  },
  {
   "cell_type": "code",
   "execution_count": 9,
   "metadata": {},
   "outputs": [],
   "source": [
    "# padding the sequences\n",
    "sent1_data = pad_sequences(sent1_word_seq, maxlen = max_seq_length)\n",
    "sent2_data = pad_sequences(sent2_word_seq, maxlen = max_seq_length)\n",
    "\n",
    "sent1_data_trial = pad_sequences(sent1_word_seq_trial, maxlen = max_seq_length)\n",
    "sent2_data_trial = pad_sequences(sent2_word_seq_trial, maxlen = max_seq_length)\n",
    "\n",
    "sent1_data_test = pad_sequences(sent1_word_seq_test, maxlen = max_seq_length)\n",
    "sent2_data_test = pad_sequences(sent2_word_seq_test, maxlen = max_seq_length)"
   ]
  },
  {
   "cell_type": "code",
   "execution_count": 10,
   "metadata": {},
   "outputs": [
    {
     "data": {
      "text/plain": [
       "2307"
      ]
     },
     "execution_count": 10,
     "metadata": {},
     "output_type": "execute_result"
    }
   ],
   "source": [
    "NUM_WORDS = len(embedding_weights)\n",
    "NUM_WORDS"
   ]
  },
  {
   "cell_type": "markdown",
   "metadata": {},
   "source": [
    "<p> <font size = 4> to_categorical() function converts the numerical classes to binary columns"
   ]
  },
  {
   "cell_type": "code",
   "execution_count": 11,
   "metadata": {},
   "outputs": [],
   "source": [
    "labels = to_categorical(np.asarray(train['entailment_encoded']))\n",
    "labels2 = to_categorical(np.asarray(trial['entailment_encoded']))"
   ]
  },
  {
   "cell_type": "markdown",
   "metadata": {},
   "source": [
    "## Deep learning models"
   ]
  },
  {
   "cell_type": "markdown",
   "metadata": {},
   "source": [
    "### 1) Siamese LSTM network\n",
    "<p> <font size = 4> intializing the varibles required to train the deep learning model</p>\n",
    "    <ul>\n",
    "        <li> batch_size: batch size after which the weights are updated using Stochastic gradient descent</li>\n",
    "        <li> epochs: The number of iterations</li>\n",
    "        <li> validation_split: the percent of data from training data that needs to be used for validation            "
   ]
  },
  {
   "cell_type": "code",
   "execution_count": 444,
   "metadata": {},
   "outputs": [],
   "source": [
    "# number of iterations, batch_size and validation split for the model\n",
    "batch_size = 10\n",
    "epochs = 15\n",
    "#validation_split = .1"
   ]
  },
  {
   "cell_type": "markdown",
   "metadata": {},
   "source": [
    "<p><font size =4> Model class contains the list models that can be used for classifying the entailment, the parameters are:\n",
    "    <ul>\n",
    "        <li>embedding_dim: Dimensions of the word embedding</li>\n",
    "        <li>NUM_WORDS: number of words in the data set</li>\n",
    "        <li>max_seq_length: max sequence length in the data set</li>\n",
    "        <li>dropout: dropout percentage to reduce overfitting</li>\n",
    "        </ul>"
   ]
  },
  {
   "cell_type": "code",
   "execution_count": 464,
   "metadata": {},
   "outputs": [],
   "source": [
    "import models\n",
    "m1 = models.models(embedding_dim,\n",
    "                   NUM_WORDS, \n",
    "                   embedding_weights,\n",
    "                   max_seq_length,\n",
    "#                   dropout = .1,\n",
    "                   l2_reg=.0001\n",
    "                  )"
   ]
  },
  {
   "cell_type": "markdown",
   "metadata": {},
   "source": [
    "<p><font size = 4> simaese_lstm model"
   ]
  },
  {
   "cell_type": "code",
   "execution_count": 465,
   "metadata": {
    "scrolled": true
   },
   "outputs": [
    {
     "name": "stdout",
     "output_type": "stream",
     "text": [
      "Model: \"model_34\"\n",
      "__________________________________________________________________________________________________\n",
      "Layer (type)                    Output Shape         Param #     Connected to                     \n",
      "==================================================================================================\n",
      "input_1 (InputLayer)            (None, 32)           0                                            \n",
      "__________________________________________________________________________________________________\n",
      "input_2 (InputLayer)            (None, 32)           0                                            \n",
      "__________________________________________________________________________________________________\n",
      "embedding_42 (Embedding)        (None, 32, 300)      692100      input_1[0][0]                    \n",
      "                                                                 input_2[0][0]                    \n",
      "__________________________________________________________________________________________________\n",
      "lstm_29 (LSTM)                  (None, 300)          721200      embedding_42[0][0]               \n",
      "                                                                 embedding_42[1][0]               \n",
      "__________________________________________________________________________________________________\n",
      "L1_distance (Lambda)            (None, 300)          0           lstm_29[0][0]                    \n",
      "                                                                 lstm_29[1][0]                    \n",
      "__________________________________________________________________________________________________\n",
      "entailment_task (Dense)         (None, 3)            903         L1_distance[0][0]                \n",
      "==================================================================================================\n",
      "Total params: 1,414,203\n",
      "Trainable params: 722,103\n",
      "Non-trainable params: 692,100\n",
      "__________________________________________________________________________________________________\n",
      "None\n"
     ]
    }
   ],
   "source": [
    "model = m1.siames()"
   ]
  },
  {
   "cell_type": "markdown",
   "metadata": {},
   "source": [
    "<p> <font size = 4> training the model: sent1_data will be passed to the first networks and sent2_data will be passed to the second network"
   ]
  },
  {
   "cell_type": "code",
   "execution_count": 466,
   "metadata": {
    "scrolled": true
   },
   "outputs": [
    {
     "name": "stdout",
     "output_type": "stream",
     "text": [
      "Train on 4500 samples, validate on 500 samples\n",
      "Epoch 1/15\n",
      "4500/4500 [==============================] - 65s 14ms/step - loss: 0.7580 - accuracy: 0.6296 - val_loss: 0.6310 - val_accuracy: 0.7420\n",
      "Epoch 2/15\n",
      "4500/4500 [==============================] - 66s 15ms/step - loss: 0.5611 - accuracy: 0.7489 - val_loss: 0.5671 - val_accuracy: 0.7760\n",
      "Epoch 3/15\n",
      "4500/4500 [==============================] - 66s 15ms/step - loss: 0.4414 - accuracy: 0.8240 - val_loss: 0.5071 - val_accuracy: 0.8080\n",
      "Epoch 4/15\n",
      "4500/4500 [==============================] - 65s 15ms/step - loss: 0.3543 - accuracy: 0.8669 - val_loss: 0.4720 - val_accuracy: 0.8220\n",
      "Epoch 5/15\n",
      "4500/4500 [==============================] - 65s 15ms/step - loss: 0.2735 - accuracy: 0.9056 - val_loss: 0.4799 - val_accuracy: 0.8180\n",
      "Epoch 6/15\n",
      "4500/4500 [==============================] - 66s 15ms/step - loss: 0.2097 - accuracy: 0.9322 - val_loss: 0.4993 - val_accuracy: 0.8000\n",
      "Epoch 7/15\n",
      "4500/4500 [==============================] - 65s 14ms/step - loss: 0.1576 - accuracy: 0.9498 - val_loss: 0.5379 - val_accuracy: 0.8160\n",
      "Epoch 8/15\n",
      "4500/4500 [==============================] - 65s 15ms/step - loss: 0.1183 - accuracy: 0.9667 - val_loss: 0.5616 - val_accuracy: 0.8040\n",
      "Epoch 9/15\n",
      "4500/4500 [==============================] - 68s 15ms/step - loss: 0.0914 - accuracy: 0.9764 - val_loss: 0.5560 - val_accuracy: 0.8100\n",
      "Epoch 10/15\n",
      "4500/4500 [==============================] - 67s 15ms/step - loss: 0.0718 - accuracy: 0.9800 - val_loss: 0.6189 - val_accuracy: 0.8120\n",
      "Epoch 11/15\n",
      "4500/4500 [==============================] - 81s 18ms/step - loss: 0.0542 - accuracy: 0.9869 - val_loss: 0.5856 - val_accuracy: 0.8300\n",
      "Epoch 12/15\n",
      "4500/4500 [==============================] - 112s 25ms/step - loss: 0.0393 - accuracy: 0.9931 - val_loss: 0.6295 - val_accuracy: 0.8200\n",
      "Epoch 13/15\n",
      "4500/4500 [==============================] - 114s 25ms/step - loss: 0.0361 - accuracy: 0.9924 - val_loss: 0.6515 - val_accuracy: 0.8180\n",
      "Epoch 14/15\n",
      "4500/4500 [==============================] - 114s 25ms/step - loss: 0.0255 - accuracy: 0.9947 - val_loss: 0.6474 - val_accuracy: 0.8300\n",
      "Epoch 15/15\n",
      "4500/4500 [==============================] - 114s 25ms/step - loss: 0.0266 - accuracy: 0.9951 - val_loss: 0.6666 - val_accuracy: 0.8360\n"
     ]
    }
   ],
   "source": [
    "hist = model.fit([sent1_data, sent2_data], labels, batch_size = 10, \n",
    "                 epochs = 15,\n",
    "                 validation_data= ([sent1_data_trial, sent2_data_trial],labels2 ))"
   ]
  },
  {
   "cell_type": "markdown",
   "metadata": {},
   "source": [
    "#### Model Evaluation"
   ]
  },
  {
   "cell_type": "markdown",
   "metadata": {},
   "source": [
    "<p> <font size =4> <ul>\n",
    "    <li>Training accuracy and validation accuracy after each iteration</li>\n",
    "    <li>Training loss and validation loss after each iteration "
   ]
  },
  {
   "cell_type": "code",
   "execution_count": 467,
   "metadata": {
    "scrolled": false
   },
   "outputs": [
    {
     "data": {
      "image/png": "[encoded data removed]",
      "text/plain": [
       "<Figure size 432x288 with 1 Axes>"
      ]
     },
     "metadata": {
      "needs_background": "light"
     },
     "output_type": "display_data"
    },
    {
     "data": {
      "image/png": "[encoded data removed]",
      "text/plain": [
       "<Figure size 432x288 with 1 Axes>"
      ]
     },
     "metadata": {
      "needs_background": "light"
     },
     "output_type": "display_data"
    }
   ],
   "source": [
    "plot_model_training(hist)"
   ]
  },
  {
   "cell_type": "markdown",
   "metadata": {},
   "source": [
    "#### accuracy"
   ]
  },
  {
   "cell_type": "markdown",
   "metadata": {},
   "source": [
    "<p> <font size = 4> Calculating the accuracy of the predicted classes"
   ]
  },
  {
   "cell_type": "code",
   "execution_count": 468,
   "metadata": {},
   "outputs": [],
   "source": [
    "k = model.predict([sent1_data_test, sent2_data_test])"
   ]
  },
  {
   "cell_type": "code",
   "execution_count": 469,
   "metadata": {},
   "outputs": [],
   "source": [
    "result = convert_prob(k)"
   ]
  },
  {
   "cell_type": "code",
   "execution_count": 470,
   "metadata": {},
   "outputs": [
    {
     "data": {
      "text/plain": [
       "(0.8250969221650724,\n",
       " 0.8240308504160747,\n",
       " 0.8244007667341468,\n",
       " 0.8240308504160747)"
      ]
     },
     "execution_count": 470,
     "metadata": {},
     "output_type": "execute_result"
    }
   ],
   "source": [
    "evaluate_model(test['entailment_encoded'], result)"
   ]
  },
  {
   "cell_type": "markdown",
   "metadata": {},
   "source": [
    "## 2) siamese_cnn"
   ]
  },
  {
   "cell_type": "code",
   "execution_count": 419,
   "metadata": {},
   "outputs": [],
   "source": [
    "max_seq_length = 32"
   ]
  },
  {
   "cell_type": "code",
   "execution_count": 420,
   "metadata": {},
   "outputs": [
    {
     "data": {
      "text/plain": [
       "<module 'models' from 'C:\\\\Users\\\\hkpat\\\\Masters\\\\NLP\\\\Assignment2_final\\\\models.py'>"
      ]
     },
     "execution_count": 420,
     "metadata": {},
     "output_type": "execute_result"
    }
   ],
   "source": [
    "from importlib import reload\n",
    "reload(models)"
   ]
  },
  {
   "cell_type": "code",
   "execution_count": 421,
   "metadata": {},
   "outputs": [
    {
     "name": "stdout",
     "output_type": "stream",
     "text": [
      "Model: \"model_30\"\n",
      "__________________________________________________________________________________________________\n",
      "Layer (type)                    Output Shape         Param #     Connected to                     \n",
      "==================================================================================================\n",
      "input_7 (InputLayer)            (None, 32)           0                                            \n",
      "__________________________________________________________________________________________________\n",
      "input_8 (InputLayer)            (None, 32)           0                                            \n",
      "__________________________________________________________________________________________________\n",
      "sequential_4 (Sequential)       (None, 250)          731550      input_7[0][0]                    \n",
      "                                                                 input_8[0][0]                    \n",
      "__________________________________________________________________________________________________\n",
      "lambda_4 (Lambda)               (None, 250)          0           sequential_4[1][0]               \n",
      "                                                                 sequential_4[2][0]               \n",
      "__________________________________________________________________________________________________\n",
      "entailment_task (Dense)         (None, 3)            753         lambda_4[0][0]                   \n",
      "==================================================================================================\n",
      "Total params: 732,303\n",
      "Trainable params: 40,203\n",
      "Non-trainable params: 692,100\n",
      "__________________________________________________________________________________________________\n",
      "None\n"
     ]
    }
   ],
   "source": [
    "import models\n",
    "m1 = models.models(embedding_dim,\n",
    "                   NUM_WORDS, \n",
    "                   embedding_weights,\n",
    "                   max_seq_length,\n",
    "                  dropout=.1)\n",
    "model = m1.cnn()"
   ]
  },
  {
   "cell_type": "code",
   "execution_count": 422,
   "metadata": {},
   "outputs": [],
   "source": [
    "import models\n",
    "m1 = models.models(embedding_dim,\n",
    "                   NUM_WORDS, \n",
    "                   embedding_weights,\n",
    "                   max_seq_length,\n",
    "                  dropout=.1)"
   ]
  },
  {
   "cell_type": "code",
   "execution_count": 423,
   "metadata": {
    "scrolled": true
   },
   "outputs": [
    {
     "name": "stdout",
     "output_type": "stream",
     "text": [
      "Train on 4500 samples, validate on 500 samples\n",
      "Epoch 1/15\n",
      "4500/4500 [==============================] - 2s 474us/step - loss: 0.5661 - accuracy: 0.7051 - val_loss: 0.5592 - val_accuracy: 0.72139 - \n",
      "Epoch 2/15\n",
      "4500/4500 [==============================] - 2s 373us/step - loss: 0.5506 - accuracy: 0.7115 - val_loss: 0.5565 - val_accuracy: 0.7333\n",
      "Epoch 3/15\n",
      "4500/4500 [==============================] - 2s 374us/step - loss: 0.5377 - accuracy: 0.7213 - val_loss: 0.5300 - val_accuracy: 0.7427\n",
      "Epoch 4/15\n",
      "4500/4500 [==============================] - 2s 372us/step - loss: 0.5043 - accuracy: 0.7357 - val_loss: 0.4877 - val_accuracy: 0.7553\n",
      "Epoch 5/15\n",
      "4500/4500 [==============================] - 2s 374us/step - loss: 0.4603 - accuracy: 0.7582 - val_loss: 0.4601 - val_accuracy: 0.7653\n",
      "Epoch 6/15\n",
      "4500/4500 [==============================] - 2s 384us/step - loss: 0.4325 - accuracy: 0.7743 - val_loss: 0.4447 - val_accuracy: 0.7827\n",
      "Epoch 7/15\n",
      "4500/4500 [==============================] - 2s 370us/step - loss: 0.4102 - accuracy: 0.7875 - val_loss: 0.4441 - val_accuracy: 0.7807\n",
      "Epoch 8/15\n",
      "4500/4500 [==============================] - 2s 410us/step - loss: 0.3950 - accuracy: 0.7961 - val_loss: 0.4465 - val_accuracy: 0.7807\n",
      "Epoch 9/15\n",
      "4500/4500 [==============================] - 3s 775us/step - loss: 0.3800 - accuracy: 0.8069 - val_loss: 0.4636 - val_accuracy: 0.7913\n",
      "Epoch 10/15\n",
      "4500/4500 [==============================] - 3s 664us/step - loss: 0.3618 - accuracy: 0.8176 - val_loss: 0.4397 - val_accuracy: 0.7893\n",
      "Epoch 11/15\n",
      "4500/4500 [==============================] - 3s 633us/step - loss: 0.3492 - accuracy: 0.8225 - val_loss: 0.4523 - val_accuracy: 0.7900\n",
      "Epoch 12/15\n",
      "4500/4500 [==============================] - 3s 607us/step - loss: 0.3398 - accuracy: 0.8319 - val_loss: 0.4830 - val_accuracy: 0.7813\n",
      "Epoch 13/15\n",
      "4500/4500 [==============================] - 3s 713us/step - loss: 0.3234 - accuracy: 0.8464 - val_loss: 0.4708 - val_accuracy: 0.7813\n",
      "Epoch 14/15\n",
      "4500/4500 [==============================] - 3s 718us/step - loss: 0.3199 - accuracy: 0.8481 - val_loss: 0.4668 - val_accuracy: 0.7833\n",
      "Epoch 15/15\n",
      "4500/4500 [==============================] - 3s 739us/step - loss: 0.2984 - accuracy: 0.8551 - val_loss: 0.4773 - val_accuracy: 0.7867\n"
     ]
    }
   ],
   "source": [
    "hist = model.fit([sent1_data, sent2_data], labels, batch_size = 32, \n",
    "                 epochs = 15,\n",
    "                 validation_data= ([sent1_data_trial, sent2_data_trial],labels2 ))"
   ]
  },
  {
   "cell_type": "markdown",
   "metadata": {},
   "source": [
    "#### Model Evaluation"
   ]
  },
  {
   "cell_type": "code",
   "execution_count": 416,
   "metadata": {},
   "outputs": [
    {
     "data": {
      "image/png": "[encoded data removed]",
      "text/plain": [
       "<Figure size 432x288 with 1 Axes>"
      ]
     },
     "metadata": {
      "needs_background": "light"
     },
     "output_type": "display_data"
    },
    {
     "data": {
      "image/png": "[encoded data removed]",
      "text/plain": [
       "<Figure size 432x288 with 1 Axes>"
      ]
     },
     "metadata": {
      "needs_background": "light"
     },
     "output_type": "display_data"
    }
   ],
   "source": [
    "plot_model_training(hist)"
   ]
  },
  {
   "cell_type": "code",
   "execution_count": 39,
   "metadata": {},
   "outputs": [],
   "source": [
    "k = model.predict([sent1_data_test, sent2_data_test])"
   ]
  },
  {
   "cell_type": "code",
   "execution_count": 417,
   "metadata": {},
   "outputs": [],
   "source": [
    "result = convert_prob(k)"
   ]
  },
  {
   "cell_type": "code",
   "execution_count": 418,
   "metadata": {},
   "outputs": [
    {
     "data": {
      "text/plain": [
       "(0.6611936562568149,\n",
       " 0.5764156687639537,\n",
       " 0.6047531006800726,\n",
       " 0.5764156687639537)"
      ]
     },
     "execution_count": 418,
     "metadata": {},
     "output_type": "execute_result"
    }
   ],
   "source": [
    "evaluate_model(result, test['entailment_encoded'])"
   ]
  },
  {
   "cell_type": "code",
   "execution_count": 40,
   "metadata": {},
   "outputs": [
    {
     "name": "stdout",
     "output_type": "stream",
     "text": [
      "0.6770854475339964\n"
     ]
    }
   ],
   "source": [
    "print(count/len(result))"
   ]
  },
  {
   "cell_type": "markdown",
   "metadata": {},
   "source": [
    "### GRU"
   ]
  },
  {
   "cell_type": "code",
   "execution_count": 400,
   "metadata": {},
   "outputs": [],
   "source": [
    "import tensorflow as tf"
   ]
  },
  {
   "cell_type": "code",
   "execution_count": 399,
   "metadata": {},
   "outputs": [],
   "source": [
    "m1 = models.models(embedding_dim,\n",
    "                   NUM_WORDS, \n",
    "                   embedding_weights,\n",
    "                   max_seq_length,\n",
    "                  dropout=.1)"
   ]
  },
  {
   "cell_type": "code",
   "execution_count": 398,
   "metadata": {},
   "outputs": [
    {
     "data": {
      "text/plain": [
       "32"
      ]
     },
     "execution_count": 398,
     "metadata": {},
     "output_type": "execute_result"
    }
   ],
   "source": []
  },
  {
   "cell_type": "code",
   "execution_count": 401,
   "metadata": {},
   "outputs": [
    {
     "name": "stdout",
     "output_type": "stream",
     "text": [
      "Model: \"sequential_1\"\n",
      "_________________________________________________________________\n",
      "Layer (type)                 Output Shape              Param #   \n",
      "=================================================================\n",
      "embedding_1 (Embedding)      (None, None, 300)         692100    \n",
      "_________________________________________________________________\n",
      "bidirectional_1 (Bidirection (None, 600)               1083600   \n",
      "_________________________________________________________________\n",
      "dense_2 (Dense)              (None, 300)               180300    \n",
      "_________________________________________________________________\n",
      "dense_3 (Dense)              (None, 3)                 903       \n",
      "=================================================================\n",
      "Total params: 1,956,903\n",
      "Trainable params: 1,956,903\n",
      "Non-trainable params: 0\n",
      "_________________________________________________________________\n",
      "None\n"
     ]
    }
   ],
   "source": [
    "model = m1.GRU_tf()"
   ]
  },
  {
   "cell_type": "code",
   "execution_count": 402,
   "metadata": {
    "scrolled": false
   },
   "outputs": [
    {
     "name": "stdout",
     "output_type": "stream",
     "text": [
      "Train on 4500 samples, validate on 500 samples\n",
      "Epoch 1/5\n",
      "4500/4500 [==============================] - 32s 7ms/sample - loss: 0.9611 - accuracy: 0.5616 - val_loss: 0.8879 - val_accuracy: 0.5880\n",
      "Epoch 2/5\n",
      "4500/4500 [==============================] - 36s 8ms/sample - loss: 0.8767 - accuracy: 0.5711 - val_loss: 0.9096 - val_accuracy: 0.5780\n",
      "Epoch 3/5\n",
      "4500/4500 [==============================] - 36s 8ms/sample - loss: 0.8339 - accuracy: 0.5838 - val_loss: 0.9072 - val_accuracy: 0.5780\n",
      "Epoch 4/5\n",
      "4500/4500 [==============================] - 35s 8ms/sample - loss: 0.7773 - accuracy: 0.6164 - val_loss: 1.0127 - val_accuracy: 0.5880\n",
      "Epoch 5/5\n",
      "4500/4500 [==============================] - 35s 8ms/sample - loss: 0.7270 - accuracy: 0.6240 - val_loss: 1.1000 - val_accuracy: 0.5760\n"
     ]
    }
   ],
   "source": [
    "hist = model.fit([sent1_data, sent2_data], labels, batch_size = batch_size, \n",
    "                 epochs = 5,\n",
    "                 validation_data = ([sent1_data_trial, sent2_data_trial], labels2))"
   ]
  },
  {
   "cell_type": "markdown",
   "metadata": {},
   "source": [
    "#### Model Evaluation"
   ]
  },
  {
   "cell_type": "code",
   "execution_count": 403,
   "metadata": {},
   "outputs": [
    {
     "data": {
      "image/png": "[encoded data removed]",
      "text/plain": [
       "<Figure size 432x288 with 1 Axes>"
      ]
     },
     "metadata": {
      "needs_background": "light"
     },
     "output_type": "display_data"
    },
    {
     "data": {
      "image/png": "[encoded data removed]",
      "text/plain": [
       "<Figure size 432x288 with 1 Axes>"
      ]
     },
     "metadata": {
      "needs_background": "light"
     },
     "output_type": "display_data"
    }
   ],
   "source": [
    "plot_acc_val(hist)"
   ]
  },
  {
   "cell_type": "code",
   "execution_count": 408,
   "metadata": {},
   "outputs": [],
   "source": [
    "k = model.predict([sent1_data_test, sent2_data_test])"
   ]
  },
  {
   "cell_type": "code",
   "execution_count": 409,
   "metadata": {},
   "outputs": [],
   "source": [
    "result = convert_prob(k)"
   ]
  },
  {
   "cell_type": "code",
   "execution_count": 410,
   "metadata": {},
   "outputs": [],
   "source": [
    "precision, recall, f1_score, accuracy = evaluate_model(test['entailment_encoded'], result)"
   ]
  },
  {
   "cell_type": "code",
   "execution_count": 411,
   "metadata": {},
   "outputs": [
    {
     "data": {
      "text/plain": [
       "(0.5511706443798421,\n",
       " 0.5764156687639537,\n",
       " 0.5480782368478347,\n",
       " 0.5764156687639537)"
      ]
     },
     "execution_count": 411,
     "metadata": {},
     "output_type": "execute_result"
    }
   ],
   "source": [
    "precision, recall, f1_score, accuracy"
   ]
  },
  {
   "cell_type": "markdown",
   "metadata": {},
   "source": [
    "### BiDirectional LSTM"
   ]
  },
  {
   "cell_type": "code",
   "execution_count": 332,
   "metadata": {},
   "outputs": [],
   "source": [
    "from keras.layers import LSTM, Concatenate, Flatten\n",
    "from keras.optimizers import Adam"
   ]
  },
  {
   "cell_type": "code",
   "execution_count": 342,
   "metadata": {},
   "outputs": [],
   "source": [
    "max_seq_length = 64"
   ]
  },
  {
   "cell_type": "code",
   "execution_count": 373,
   "metadata": {},
   "outputs": [
    {
     "data": {
      "text/plain": [
       "<module 'models' from 'C:\\\\Users\\\\hkpat\\\\Masters\\\\NLP\\\\Assignment2_final\\\\models.py'>"
      ]
     },
     "execution_count": 373,
     "metadata": {},
     "output_type": "execute_result"
    }
   ],
   "source": [
    "reload(models)"
   ]
  },
  {
   "cell_type": "code",
   "execution_count": 374,
   "metadata": {},
   "outputs": [],
   "source": [
    "import models\n",
    "m1 = models.models(embedding_dim,\n",
    "                   NUM_WORDS, \n",
    "                   embedding_weights,\n",
    "                   max_seq_length\n",
    "                  )"
   ]
  },
  {
   "cell_type": "code",
   "execution_count": 375,
   "metadata": {},
   "outputs": [
    {
     "name": "stdout",
     "output_type": "stream",
     "text": [
      "Model: \"model_27\"\n",
      "__________________________________________________________________________________________________\n",
      "Layer (type)                    Output Shape         Param #     Connected to                     \n",
      "==================================================================================================\n",
      "main_input (InputLayer)         (None, 64)           0                                            \n",
      "__________________________________________________________________________________________________\n",
      "embedding_35 (Embedding)        (None, 64, 300)      692100      main_input[0][0]                 \n",
      "__________________________________________________________________________________________________\n",
      "dropout (Dropout)               (None, 64, 300)      0           embedding_35[0][0]               \n",
      "__________________________________________________________________________________________________\n",
      "lstm_fwd (LSTM)                 (None, 64, 125)      213000      dropout[0][0]                    \n",
      "__________________________________________________________________________________________________\n",
      "lstm_bwd (LSTM)                 (None, 64, 125)      213000      dropout[0][0]                    \n",
      "__________________________________________________________________________________________________\n",
      "concatenate_6 (Concatenate)     (None, 64, 250)      0           lstm_fwd[0][0]                   \n",
      "                                                                 lstm_bwd[0][0]                   \n",
      "__________________________________________________________________________________________________\n",
      "d_bilstm (Dropout)              (None, 64, 250)      0           concatenate_6[0][0]              \n",
      "__________________________________________________________________________________________________\n",
      "flat_h_star (Flatten)           (None, 16000)        0           d_bilstm[0][0]                   \n",
      "__________________________________________________________________________________________________\n",
      "dense_7 (Dense)                 (None, 3)            48003       flat_h_star[0][0]                \n",
      "==================================================================================================\n",
      "Total params: 1,166,103\n",
      "Trainable params: 474,003\n",
      "Non-trainable params: 692,100\n",
      "__________________________________________________________________________________________________\n"
     ]
    },
    {
     "name": "stderr",
     "output_type": "stream",
     "text": [
      "C:\\Users\\hkpat\\Masters\\NLP\\Assignment2_final\\models.py:257: UserWarning: Update your `Model` call to the Keras 2 API: `Model([<tf.Tenso..., outputs=Tensor(\"de...)`\n",
      "  \n"
     ]
    }
   ],
   "source": [
    "model = m1.lstm_bi()"
   ]
  },
  {
   "cell_type": "code",
   "execution_count": 376,
   "metadata": {},
   "outputs": [],
   "source": [
    "sent = np.concatenate((sent1_data, sent2_data),axis= 1)"
   ]
  },
  {
   "cell_type": "code",
   "execution_count": 377,
   "metadata": {},
   "outputs": [],
   "source": [
    "sent_trial = np.concatenate((sent1_data_trial, sent2_data_trial), axis = 1)"
   ]
  },
  {
   "cell_type": "code",
   "execution_count": 378,
   "metadata": {},
   "outputs": [
    {
     "name": "stdout",
     "output_type": "stream",
     "text": [
      "Train on 4500 samples, validate on 500 samples\n",
      "Epoch 1/10\n",
      "4500/4500 [==============================] - 15s 3ms/step - loss: 0.5480 - acc: 0.7117 - val_loss: 0.5136 - val_acc: 0.7073\n",
      "Epoch 2/10\n",
      "4500/4500 [==============================] - 23s 5ms/step - loss: 0.4833 - acc: 0.7337 - val_loss: 0.4856 - val_acc: 0.7480\n",
      "Epoch 3/10\n",
      "4500/4500 [==============================] - 22s 5ms/step - loss: 0.4542 - acc: 0.7549 - val_loss: 0.4892 - val_acc: 0.7280\n",
      "Epoch 4/10\n",
      "4500/4500 [==============================] - 22s 5ms/step - loss: 0.4311 - acc: 0.7732 - val_loss: 0.4970 - val_acc: 0.7147\n",
      "Epoch 5/10\n",
      "4500/4500 [==============================] - 22s 5ms/step - loss: 0.4121 - acc: 0.7921 - val_loss: 0.4963 - val_acc: 0.7427\n",
      "Epoch 6/10\n",
      "4500/4500 [==============================] - 22s 5ms/step - loss: 0.3962 - acc: 0.7962 - val_loss: 0.5195 - val_acc: 0.7253\n",
      "Epoch 7/10\n",
      "4500/4500 [==============================] - 22s 5ms/step - loss: 0.3758 - acc: 0.8137 - val_loss: 0.5284 - val_acc: 0.7313\n",
      "Epoch 8/10\n",
      "4500/4500 [==============================] - 22s 5ms/step - loss: 0.3557 - acc: 0.8267 - val_loss: 0.5537 - val_acc: 0.7247\n",
      "Epoch 9/10\n",
      "4500/4500 [==============================] - 22s 5ms/step - loss: 0.3259 - acc: 0.8495 - val_loss: 0.5768 - val_acc: 0.7287\n",
      "Epoch 10/10\n",
      "4500/4500 [==============================] - 22s 5ms/step - loss: 0.3110 - acc: 0.8559 - val_loss: 0.6124 - val_acc: 0.7260\n"
     ]
    }
   ],
   "source": [
    "hist = model.fit(sent, labels, batch_size = 32, \n",
    "                 epochs = 10,\n",
    "                 validation_data = (sent_trial, labels2))"
   ]
  },
  {
   "cell_type": "code",
   "execution_count": 363,
   "metadata": {},
   "outputs": [
    {
     "data": {
      "text/plain": [
       "<module 'model_evaluation' from 'C:\\\\Users\\\\hkpat\\\\Masters\\\\NLP\\\\Assignment2_final\\\\model_evaluation.py'>"
      ]
     },
     "execution_count": 363,
     "metadata": {},
     "output_type": "execute_result"
    }
   ],
   "source": [
    "reload(model_evaluation)"
   ]
  },
  {
   "cell_type": "code",
   "execution_count": 379,
   "metadata": {},
   "outputs": [],
   "source": [
    "sent_test = np.concatenate((sent1_data_test, sent2_data_test), axis =1)"
   ]
  },
  {
   "cell_type": "code",
   "execution_count": 380,
   "metadata": {},
   "outputs": [],
   "source": [
    "k= model.predict(sent_test)"
   ]
  },
  {
   "cell_type": "code",
   "execution_count": 381,
   "metadata": {},
   "outputs": [],
   "source": [
    "predicted_val = convert_prob(k)"
   ]
  },
  {
   "cell_type": "code",
   "execution_count": 382,
   "metadata": {},
   "outputs": [
    {
     "data": {
      "text/plain": [
       "(0.5768651639449154,\n",
       " 0.5892023543738584,\n",
       " 0.5770876887780958,\n",
       " 0.5892023543738584)"
      ]
     },
     "execution_count": 382,
     "metadata": {},
     "output_type": "execute_result"
    }
   ],
   "source": [
    "evaluate_model(list(test['entailment_encoded']), list(predicted_val))"
   ]
  }
 ],
 "metadata": {
  "kernelspec": {
   "display_name": "Python 3",
   "language": "python",
   "name": "python3"
  },
  "language_info": {
   "codemirror_mode": {
    "name": "ipython",
    "version": 3
   },
   "file_extension": ".py",
   "mimetype": "text/x-python",
   "name": "python",
   "nbconvert_exporter": "python",
   "pygments_lexer": "ipython3",
   "version": "3.7.4"
  }
 },
 "nbformat": 4,
 "nbformat_minor": 2
}
