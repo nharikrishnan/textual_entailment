{
 "cells": [
  {
   "cell_type": "markdown",
   "metadata": {},
   "source": [
    "# Assignment 2"
   ]
  },
  {
   "cell_type": "code",
   "execution_count": 101,
   "metadata": {},
   "outputs": [],
   "source": [
    "#import statements\n",
    "import pandas as pd\n",
    "import numpy as np\n",
    "import keras\n",
    "import nltk\n",
    "from nltk.tokenize import word_tokenize\n",
    "import os\n",
    "import numpy as np\n",
    "import pandas as pd\n",
    "import matplotlib.pyplot as plt\n",
    "\n",
    "#importing required functions from keras\n",
    "import keras\n",
    "from keras.preprocessing.text import Tokenizer\n",
    "from keras.preprocessing.sequence import pad_sequences\n",
    "from keras.layers import Dense, Input, GlobalMaxPooling1D\n",
    "from keras.layers import Conv1D, MaxPooling1D, Embedding\n",
    "from keras.models import Model\n",
    "from sklearn.metrics import roc_auc_score\n",
    "from keras import layers\n",
    "import keras.backend as K\n",
    "\n",
    "#importing libraries required for preprocessing\n",
    "import re\n",
    "from bs4 import BeautifulSoup\n",
    "from sklearn.preprocessing import LabelEncoder\n",
    "pd.set_option('display.max_colwidth', -1)\n",
    "from sklearn.model_selection import train_test_split\n",
    "\n",
    "# importing the required util function\n",
    "import functions.utils\n",
    "from functions.utils import *\n",
    "from functions.utils import clean_text\n",
    "from functions.utils import load_embedding, create_embedding_weights, max_seq_len\n",
    "from keras.utils import to_categorical, plot_model\n",
    "from keras.optimizers import Adam\n",
    "import functions.model_evaluation\n",
    "from functions.model_evaluation import *\n",
    "\n",
    "import functions.data_manipulation\n",
    "from functions.data_manipulation import *\n",
    "\n",
    "#importing the module which has all the deeplearning models\n",
    "import models.models as models"
   ]
  },
  {
   "cell_type": "markdown",
   "metadata": {},
   "source": [
    "<p><font size = 3> Loading the required data sets from the specified URLs</p>"
   ]
  },
  {
   "cell_type": "code",
   "execution_count": 2,
   "metadata": {},
   "outputs": [],
   "source": [
    "# loading datasets\n",
    "train = pd.read_csv('data/train.txt', delimiter = '\\t')\n",
    "test = pd.read_csv('data/test.txt', delimiter = '\\t')\n",
    "trial = pd.read_csv('data/trial.txt', delimiter = '\\t')\n",
    "test_ann = pd.read_csv('data/test_anno.txt', delimiter = '\\t')"
   ]
  },
  {
   "cell_type": "markdown",
   "metadata": {},
   "source": [
    "## Data Preprocessing"
   ]
  },
  {
   "cell_type": "markdown",
   "metadata": {},
   "source": [
    "<p><font size = 3> The data preprocessing consists of different steps</p>\n",
    "    <ul> <li>Data cleaning: Expansion of contractions and removal of special charecters</li>\n",
    "        <li> Loadin pre-trained word embbeding: Glove word embedding was used to create embedding matrics</li>\n",
    "        <li> tokenizing and Word embedding:Input data was tokenized and the converted to sequences and then padded a pre-trained word embedding was used to represent the weights</li>\n",
    "        </ul>"
   ]
  },
  {
   "cell_type": "markdown",
   "metadata": {},
   "source": [
    "### Data cleaning\n",
    "<p><font size = 3> For cleaning the data clean_text(text), a UDF which takes a text input and expands the contractions and removes special charecters, the function definition can be found in the utils.py file "
   ]
  },
  {
   "cell_type": "code",
   "execution_count": 3,
   "metadata": {},
   "outputs": [],
   "source": [
    "#Cleaning the data\n",
    "train['sentence_A'] = train['sentence_A'].apply(clean_text)\n",
    "train['sentence_B'] = train['sentence_B'].apply(clean_text)\n",
    "test['sentence_A'] = test['sentence_A'].apply(clean_text)\n",
    "test['sentence_B'] = test['sentence_B'].apply(clean_text)\n",
    "trial['sentence_A'] = trial['sentence_A'].apply(clean_text)\n",
    "trial['sentence_B'] = trial['sentence_B'].apply(clean_text)"
   ]
  },
  {
   "cell_type": "markdown",
   "metadata": {},
   "source": [
    "<p><font size =3> Encoding the class values: For encoding the class values the LabelEncoder() from scipy was used, it converts the class values to numbers"
   ]
  },
  {
   "cell_type": "code",
   "execution_count": 4,
   "metadata": {},
   "outputs": [],
   "source": [
    "#encoding the target feature\n",
    "lbl_enc = LabelEncoder()\n",
    "train['entailment_encoded'] = lbl_enc.fit_transform(train['entailment_judgment'])\n",
    "trial['entailment_encoded'] = lbl_enc.fit_transform(trial['entailment_judgment'])\n",
    "############################For now############################################\n",
    "test_ann['entailment_encoded'] = lbl_enc.fit_transform(test_ann['entailment_judgment'])"
   ]
  },
  {
   "cell_type": "markdown",
   "metadata": {},
   "source": [
    "### Tokenizing and embedding matrix\n",
    "\n",
    "<p><font size = 3> Creating the word embedding dictionary from a pretrained word embedding: The load embedding function loads a pretrained word embedding from a text file and creates a dictionary, with key as the word and word vector as value"
   ]
  },
  {
   "cell_type": "code",
   "execution_count": 5,
   "metadata": {},
   "outputs": [],
   "source": [
    "file_name = 'word_embeddings/glove.6B.300d.txt'\n",
    "embeddings = load_embedding(file_name)"
   ]
  },
  {
   "cell_type": "markdown",
   "metadata": {},
   "source": [
    "<p> <font size = 3> Tokenizing the sentences and creating a sequence from the tokens: For Tokenizing the sentences Tokenizer() from keras was used, once the sentences were tokenized, text_to_sequence() function converts the tokens to sequence"
   ]
  },
  {
   "cell_type": "code",
   "execution_count": 6,
   "metadata": {},
   "outputs": [],
   "source": [
    "NUM_WORDS = len(embeddings) #200000\n",
    "sentences = (list(train['sentence_A']) + list(train['sentence_B']) + \n",
    "                       list(test['sentence_A']) + list(test['sentence_B'])+ \n",
    "                           list(trial['sentence_A']) + list(trial['sentence_B']))\n",
    "tokenize = Tokenizer(num_words = NUM_WORDS)\n",
    "tokenize.fit_on_texts(sentences)\n",
    "sent1_word_seq = tokenize.texts_to_sequences(train['sentence_A'])\n",
    "sent2_word_seq = tokenize.texts_to_sequences(train['sentence_B'])\n",
    "sent1_word_seq_test = tokenize.texts_to_sequences(test['sentence_A'])\n",
    "sent2_word_seq_test = tokenize.texts_to_sequences(test['sentence_B'])\n",
    "sent1_word_seq_trial = tokenize.texts_to_sequences(trial['sentence_A'])\n",
    "sent2_word_seq_trial = tokenize.texts_to_sequences(trial['sentence_B'])\n",
    "word_index = tokenize.word_index"
   ]
  },
  {
   "cell_type": "markdown",
   "metadata": {},
   "source": [
    "<p> <font size = 3> The create_embedding_weights() function creates  embedding weights matrix using the word embedding and the idexes of the corresponding words using the index of the sequences"
   ]
  },
  {
   "cell_type": "code",
   "execution_count": 7,
   "metadata": {},
   "outputs": [],
   "source": [
    "#Matrix with the embedding weights\n",
    "embedding_dim = 300\n",
    "embedding_weights = create_embedding_weights(embeddings, embedding_dim, word_index, NUM_WORDS)"
   ]
  },
  {
   "cell_type": "markdown",
   "metadata": {},
   "source": [
    "<p> <font size = 3> The max_seq_len(fuction) returns the maximum sequence length from the list of the sequences"
   ]
  },
  {
   "cell_type": "code",
   "execution_count": 8,
   "metadata": {},
   "outputs": [],
   "source": [
    "# extracting the maximum sequence length\n",
    "max_seq_length = max_seq_len(sent1_word_seq)\n",
    "max_seq_length = max_seq_len(sent2_word_seq, max_seq_length)\n",
    "max_seq_length = max_seq_len(sent1_word_seq_test, max_seq_length)\n",
    "max_seq_length = max_seq_len(sent2_word_seq_test, max_seq_length)\n",
    "max_seq_length = max_seq_len(sent1_word_seq_trial, max_seq_length)\n",
    "max_seq_length = max_seq_len(sent2_word_seq_trial, max_seq_length)"
   ]
  },
  {
   "cell_type": "markdown",
   "metadata": {},
   "source": [
    "<p> <font size = 3> As the sequences where in different lengths the sequences were padded to the maximum sequence length using the pad_sequences method"
   ]
  },
  {
   "cell_type": "code",
   "execution_count": 9,
   "metadata": {},
   "outputs": [],
   "source": [
    "# padding the sequences\n",
    "sent1_data = pad_sequences(sent1_word_seq, maxlen = max_seq_length)\n",
    "sent2_data = pad_sequences(sent2_word_seq, maxlen = max_seq_length)\n",
    "\n",
    "sent1_data_trial = pad_sequences(sent1_word_seq_trial, maxlen = max_seq_length)\n",
    "sent2_data_trial = pad_sequences(sent2_word_seq_trial, maxlen = max_seq_length)\n",
    "\n",
    "sent1_data_test = pad_sequences(sent1_word_seq_test, maxlen = max_seq_length)\n",
    "sent2_data_test = pad_sequences(sent2_word_seq_test, maxlen = max_seq_length)"
   ]
  },
  {
   "cell_type": "code",
   "execution_count": 10,
   "metadata": {},
   "outputs": [
    {
     "data": {
      "text/plain": [
       "2307"
      ]
     },
     "execution_count": 10,
     "metadata": {},
     "output_type": "execute_result"
    }
   ],
   "source": [
    "NUM_WORDS = len(embedding_weights)\n",
    "NUM_WORDS"
   ]
  },
  {
   "cell_type": "markdown",
   "metadata": {},
   "source": [
    "<p> <font size = 4> to_categorical() function converts the numerical classes to binary columns"
   ]
  },
  {
   "cell_type": "code",
   "execution_count": 11,
   "metadata": {},
   "outputs": [],
   "source": [
    "labels = to_categorical(np.asarray(train['entailment_encoded']))\n",
    "labels2 = to_categorical(np.asarray(trial['entailment_encoded']))"
   ]
  },
  {
   "cell_type": "markdown",
   "metadata": {},
   "source": [
    "## Deep learning models"
   ]
  },
  {
   "cell_type": "markdown",
   "metadata": {},
   "source": [
    "### 1) Siamese LSTM network\n",
    "<p> <font size = 3> intializing the varibles required to train the deep learning model</p>\n",
    "    <ul>\n",
    "        <li> batch_size: batch size after which the weights are updated using Stochastic gradient descent</li>\n",
    "        <li> epochs: The number of iterations</li>\n",
    "        <li> validation_split: the percent of data from training data that needs to be used for validation            "
   ]
  },
  {
   "cell_type": "code",
   "execution_count": 153,
   "metadata": {},
   "outputs": [],
   "source": [
    "# number of iterations, batch_size and validation split for the model\n",
    "batch_size = 10\n",
    "epochs = 15\n",
    "#validation_split = .1"
   ]
  },
  {
   "cell_type": "markdown",
   "metadata": {},
   "source": [
    "<p><font size =3> Model class contains the list models that can be used for classifying the entailment, the parameters are:\n",
    "    <ul>\n",
    "        <li>embedding_dim: Dimensions of the word embedding</li>\n",
    "        <li>NUM_WORDS: number of words in the data set</li>\n",
    "        <li>max_seq_length: max sequence length in the data set</li>\n",
    "        <li>dropout: dropout percentage to reduce overfitting</li>\n",
    "        </ul>"
   ]
  },
  {
   "cell_type": "code",
   "execution_count": 154,
   "metadata": {},
   "outputs": [],
   "source": [
    "#laoding the module from deep learning models\n",
    "import models.models as models\n",
    "\n",
    "m1 = models.models(embedding_dim,\n",
    "                   NUM_WORDS, \n",
    "                   embedding_weights,\n",
    "#                   dropout = .1,\n",
    "#                   l2_reg = .0001\n",
    "                   max_seq_length,\n",
    "                  )"
   ]
  },
  {
   "cell_type": "markdown",
   "metadata": {},
   "source": [
    "<p><font size = 3> simaese_lstm model"
   ]
  },
  {
   "cell_type": "code",
   "execution_count": 155,
   "metadata": {
    "scrolled": true
   },
   "outputs": [
    {
     "name": "stdout",
     "output_type": "stream",
     "text": [
      "Model: \"model_12\"\n",
      "__________________________________________________________________________________________________\n",
      "Layer (type)                    Output Shape         Param #     Connected to                     \n",
      "==================================================================================================\n",
      "input_1 (InputLayer)            (None, 32)           0                                            \n",
      "__________________________________________________________________________________________________\n",
      "input_2 (InputLayer)            (None, 32)           0                                            \n",
      "__________________________________________________________________________________________________\n",
      "embedding_17 (Embedding)        (None, 32, 300)      692100      input_1[0][0]                    \n",
      "                                                                 input_2[0][0]                    \n",
      "__________________________________________________________________________________________________\n",
      "lstm_1 (LSTM)                   (None, 300)          721200      embedding_17[0][0]               \n",
      "                                                                 embedding_17[1][0]               \n",
      "__________________________________________________________________________________________________\n",
      "L1_distance (Lambda)            (None, 300)          0           lstm_1[0][0]                     \n",
      "                                                                 lstm_1[1][0]                     \n",
      "__________________________________________________________________________________________________\n",
      "entailment_task (Dense)         (None, 3)            903         L1_distance[0][0]                \n",
      "==================================================================================================\n",
      "Total params: 1,414,203\n",
      "Trainable params: 722,103\n",
      "Non-trainable params: 692,100\n",
      "__________________________________________________________________________________________________\n",
      "None\n"
     ]
    }
   ],
   "source": [
    "model = m1.siames()"
   ]
  },
  {
   "cell_type": "markdown",
   "metadata": {},
   "source": [
    "<p> <font size = 3> training the model: sent1_data will be passed to the first networks and sent2_data will be passed to the second network"
   ]
  },
  {
   "cell_type": "code",
   "execution_count": 156,
   "metadata": {
    "scrolled": true
   },
   "outputs": [
    {
     "name": "stdout",
     "output_type": "stream",
     "text": [
      "Train on 4500 samples, validate on 500 samples\n",
      "Epoch 1/15\n",
      "4500/4500 [==============================] - 81s 18ms/step - loss: 0.7639 - accuracy: 0.6307 - val_loss: 0.6420 - val_accuracy: 0.6940\n",
      "Epoch 2/15\n",
      "4500/4500 [==============================] - 81s 18ms/step - loss: 0.5393 - accuracy: 0.7702 - val_loss: 0.5312 - val_accuracy: 0.7900\n",
      "Epoch 3/15\n",
      "4500/4500 [==============================] - 80s 18ms/step - loss: 0.4249 - accuracy: 0.8273 - val_loss: 0.4788 - val_accuracy: 0.8280\n",
      "Epoch 4/15\n",
      "4500/4500 [==============================] - 81s 18ms/step - loss: 0.3268 - accuracy: 0.8813 - val_loss: 0.4705 - val_accuracy: 0.8200: 25s - -  - ETA\n",
      "Epoch 5/15\n",
      "4500/4500 [==============================] - 84s 19ms/step - loss: 0.2632 - accuracy: 0.9058 - val_loss: 0.4327 - val_accuracy: 0.8180\n",
      "Epoch 6/15\n",
      "4500/4500 [==============================] - 80s 18ms/step - loss: 0.1903 - accuracy: 0.9387 - val_loss: 0.5383 - val_accuracy: 0.8080\n",
      "Epoch 7/15\n",
      "4500/4500 [==============================] - 80s 18ms/step - loss: 0.1507 - accuracy: 0.9518 - val_loss: 0.4809 - val_accuracy: 0.8160\n",
      "Epoch 8/15\n",
      "4500/4500 [==============================] - 79s 17ms/step - loss: 0.1073 - accuracy: 0.9700 - val_loss: 0.4853 - val_accuracy: 0.8360\n",
      "Epoch 9/15\n",
      "4500/4500 [==============================] - 80s 18ms/step - loss: 0.0822 - accuracy: 0.9782 - val_loss: 0.5377 - val_accuracy: 0.8200\n",
      "Epoch 10/15\n",
      "4500/4500 [==============================] - 81s 18ms/step - loss: 0.0686 - accuracy: 0.9831 - val_loss: 0.5857 - val_accuracy: 0.8180s -  - ETA:  - ETA: 1s - loss: 0.0\n",
      "Epoch 11/15\n",
      "4500/4500 [==============================] - 81s 18ms/step - loss: 0.0454 - accuracy: 0.9889 - val_loss: 0.5404 - val_accuracy: 0.8360ss: 0.0367 - accuracy: 0 - ETA: 50s - loss \n",
      "Epoch 12/15\n",
      "4500/4500 [==============================] - 81s 18ms/step - loss: 0.0362 - accuracy: 0.9927 - val_loss: 0.5856 - val_accuracy: 0.8220\n",
      "Epoch 13/15\n",
      "4500/4500 [==============================] - 81s 18ms/step - loss: 0.0327 - accuracy: 0.9924 - val_loss: 0.5665 - val_accuracy: 0.8320\n",
      "Epoch 14/15\n",
      "4500/4500 [==============================] - 81s 18ms/step - loss: 0.0272 - accuracy: 0.9940 - val_loss: 0.5903 - val_accuracy: 0.8220\n",
      "Epoch 15/15\n",
      "4500/4500 [==============================] - 65s 14ms/step - loss: 0.0196 - accuracy: 0.9953 - val_loss: 0.6364 - val_accuracy: 0.8300\n"
     ]
    }
   ],
   "source": [
    "hist = model.fit([sent1_data, sent2_data], labels, batch_size = 10, \n",
    "                 epochs = 15,\n",
    "                 validation_data= ([sent1_data_trial, sent2_data_trial],labels2 ))"
   ]
  },
  {
   "cell_type": "markdown",
   "metadata": {},
   "source": [
    "#### Model Evaluation"
   ]
  },
  {
   "cell_type": "markdown",
   "metadata": {},
   "source": [
    "<p> <font size =3> <ul>\n",
    "    <li>Training accuracy and validation accuracy after each iteration</li>\n",
    "    <li>Training loss and validation loss after each iteration "
   ]
  },
  {
   "cell_type": "code",
   "execution_count": 166,
   "metadata": {
    "scrolled": false
   },
   "outputs": [
    {
     "data": {
      "image/png": "[encoded data removed]",
      "text/plain": [
       "<Figure size 432x288 with 1 Axes>"
      ]
     },
     "metadata": {
      "needs_background": "light"
     },
     "output_type": "display_data"
    },
    {
     "data": {
      "image/png": "[encoded data removed]",
      "text/plain": [
       "<Figure size 432x288 with 1 Axes>"
      ]
     },
     "metadata": {
      "needs_background": "light"
     },
     "output_type": "display_data"
    }
   ],
   "source": [
    "plot_model_training(hist)"
   ]
  },
  {
   "cell_type": "markdown",
   "metadata": {},
   "source": [
    "#### accuracy"
   ]
  },
  {
   "cell_type": "markdown",
   "metadata": {},
   "source": [
    "<p> <font size = 3> Calculating the accuracy of the predicted classes"
   ]
  },
  {
   "cell_type": "code",
   "execution_count": 167,
   "metadata": {},
   "outputs": [],
   "source": [
    "siamese_lstm_model = model"
   ]
  },
  {
   "cell_type": "code",
   "execution_count": 168,
   "metadata": {},
   "outputs": [],
   "source": [
    "k = siamese_lstm_model.predict([sent1_data_test, sent2_data_test])"
   ]
  },
  {
   "cell_type": "code",
   "execution_count": 169,
   "metadata": {},
   "outputs": [],
   "source": [
    "result = convert_prob(k)"
   ]
  },
  {
   "cell_type": "code",
   "execution_count": 170,
   "metadata": {},
   "outputs": [],
   "source": [
    "prec, rec, f1_s, acc = evaluate_model(test_ann['entailment_encoded'], result)"
   ]
  },
  {
   "cell_type": "code",
   "execution_count": 171,
   "metadata": {},
   "outputs": [
    {
     "name": "stdout",
     "output_type": "stream",
     "text": [
      "Precision: 0.8298788907676514\n",
      "Recall: 0.8246397402070226\n",
      "F1 score: 0.825883248816789\n",
      "Accuracy: 82.46397402070225%\n"
     ]
    }
   ],
   "source": [
    "print(\"Precision: \"+ str(prec))\n",
    "print(\"Recall: \"+ str(rec))\n",
    "print(\"F1 score: \"+ str(f1_s))\n",
    "print(\"Accuracy: \"+ str(acc*100)+\"%\")"
   ]
  },
  {
   "cell_type": "code",
   "execution_count": 175,
   "metadata": {},
   "outputs": [
    {
     "name": "stderr",
     "output_type": "stream",
     "text": [
      "C:\\Users\\hkpat\\Masters\\NLP\\Assignment2_final\\submission\\functions\\data_manipulation.py:41: SettingWithCopyWarning: \n",
      "A value is trying to be set on a copy of a slice from a DataFrame.\n",
      "Try using .loc[row_indexer,col_indexer] = value instead\n",
      "\n",
      "See the caveats in the documentation: http://pandas.pydata.org/pandas-docs/stable/user_guide/indexing.html#returning-a-view-versus-a-copy\n",
      "  df['entailment_judgment'] =  entailment_result\n"
     ]
    }
   ],
   "source": [
    "siamese_df = map_entailment(lbl_enc, result, test)"
   ]
  },
  {
   "cell_type": "code",
   "execution_count": 177,
   "metadata": {},
   "outputs": [
    {
     "data": {
      "text/html": [
       "<div>\n",
       "<style scoped>\n",
       "    .dataframe tbody tr th:only-of-type {\n",
       "        vertical-align: middle;\n",
       "    }\n",
       "\n",
       "    .dataframe tbody tr th {\n",
       "        vertical-align: top;\n",
       "    }\n",
       "\n",
       "    .dataframe thead th {\n",
       "        text-align: right;\n",
       "    }\n",
       "</style>\n",
       "<table border=\"1\" class=\"dataframe\">\n",
       "  <thead>\n",
       "    <tr style=\"text-align: right;\">\n",
       "      <th></th>\n",
       "      <th>pair_ID</th>\n",
       "      <th>entailment_judgment</th>\n",
       "    </tr>\n",
       "  </thead>\n",
       "  <tbody>\n",
       "    <tr>\n",
       "      <td>0</td>\n",
       "      <td>6</td>\n",
       "      <td>NEUTRAL</td>\n",
       "    </tr>\n",
       "    <tr>\n",
       "      <td>1</td>\n",
       "      <td>7</td>\n",
       "      <td>NEUTRAL</td>\n",
       "    </tr>\n",
       "    <tr>\n",
       "      <td>2</td>\n",
       "      <td>8</td>\n",
       "      <td>NEUTRAL</td>\n",
       "    </tr>\n",
       "    <tr>\n",
       "      <td>3</td>\n",
       "      <td>10</td>\n",
       "      <td>ENTAILMENT</td>\n",
       "    </tr>\n",
       "    <tr>\n",
       "      <td>4</td>\n",
       "      <td>11</td>\n",
       "      <td>ENTAILMENT</td>\n",
       "    </tr>\n",
       "  </tbody>\n",
       "</table>\n",
       "</div>"
      ],
      "text/plain": [
       "   pair_ID entailment_judgment\n",
       "0  6        NEUTRAL           \n",
       "1  7        NEUTRAL           \n",
       "2  8        NEUTRAL           \n",
       "3  10       ENTAILMENT        \n",
       "4  11       ENTAILMENT        "
      ]
     },
     "execution_count": 177,
     "metadata": {},
     "output_type": "execute_result"
    }
   ],
   "source": [
    "siamese_df.head()"
   ]
  },
  {
   "cell_type": "code",
   "execution_count": 178,
   "metadata": {},
   "outputs": [],
   "source": [
    "output_csv(siamese_df, \"entailment_relatedness/entailment/siamese_lstm_entailment.csv\", index = False)"
   ]
  },
  {
   "cell_type": "markdown",
   "metadata": {},
   "source": [
    "## 2) siamese_cnn\n",
    "<p><font size = 3> Siamese CNN, two individual CNN networks are used for both the sentences and are merged taking the absolute difference, this value is passed to an output Dense sigmoid, which outputs 3 values. The three values are the probilites of the entailment, finally the value with the maximum probability is taken as the prediction."
   ]
  },
  {
   "cell_type": "code",
   "execution_count": 13,
   "metadata": {},
   "outputs": [
    {
     "name": "stdout",
     "output_type": "stream",
     "text": [
      "Model: \"model_1\"\n",
      "__________________________________________________________________________________________________\n",
      "Layer (type)                    Output Shape         Param #     Connected to                     \n",
      "==================================================================================================\n",
      "input_1 (InputLayer)            (None, 32)           0                                            \n",
      "__________________________________________________________________________________________________\n",
      "input_2 (InputLayer)            (None, 32)           0                                            \n",
      "__________________________________________________________________________________________________\n",
      "sequential_1 (Sequential)       (None, 250)          731550      input_1[0][0]                    \n",
      "                                                                 input_2[0][0]                    \n",
      "__________________________________________________________________________________________________\n",
      "lambda_1 (Lambda)               (None, 250)          0           sequential_1[1][0]               \n",
      "                                                                 sequential_1[2][0]               \n",
      "__________________________________________________________________________________________________\n",
      "entailment_task (Dense)         (None, 3)            753         lambda_1[0][0]                   \n",
      "==================================================================================================\n",
      "Total params: 732,303\n",
      "Trainable params: 40,203\n",
      "Non-trainable params: 692,100\n",
      "__________________________________________________________________________________________________\n",
      "None\n"
     ]
    }
   ],
   "source": [
    "import models.models as models\n",
    "\n",
    "m1 = models.models(embedding_dim,\n",
    "                   NUM_WORDS, \n",
    "                   embedding_weights,\n",
    "                   max_seq_length,\n",
    "                  dropout=.1)\n",
    "model = m1.cnn()"
   ]
  },
  {
   "cell_type": "code",
   "execution_count": 14,
   "metadata": {},
   "outputs": [],
   "source": [
    "import models.models as models\n",
    "m1 = models.models(embedding_dim,\n",
    "                   NUM_WORDS, \n",
    "                   embedding_weights,\n",
    "                   max_seq_length,\n",
    "                  dropout=.1)"
   ]
  },
  {
   "cell_type": "code",
   "execution_count": 15,
   "metadata": {
    "scrolled": true
   },
   "outputs": [
    {
     "name": "stdout",
     "output_type": "stream",
     "text": [
      "Train on 4500 samples, validate on 500 samples\n",
      "Epoch 1/15\n",
      "4500/4500 [==============================] - 4s 819us/step - loss: 0.5631 - accuracy: 0.7103 - val_loss: 0.5566 - val_accuracy: 0.7293\n",
      "Epoch 2/15\n",
      "4500/4500 [==============================] - 4s 809us/step - loss: 0.5419 - accuracy: 0.7193 - val_loss: 0.5479 - val_accuracy: 0.7353\n",
      "Epoch 3/15\n",
      "4500/4500 [==============================] - 3s 768us/step - loss: 0.5314 - accuracy: 0.7306 - val_loss: 0.5432 - val_accuracy: 0.7300\n",
      "Epoch 4/15\n",
      "4500/4500 [==============================] - 3s 756us/step - loss: 0.5192 - accuracy: 0.7370 - val_loss: 0.5265 - val_accuracy: 0.7333\n",
      "Epoch 5/15\n",
      "4500/4500 [==============================] - 4s 789us/step - loss: 0.4973 - accuracy: 0.7476 - val_loss: 0.5008 - val_accuracy: 0.7640\n",
      "Epoch 6/15\n",
      "4500/4500 [==============================] - 3s 745us/step - loss: 0.4458 - accuracy: 0.7719 - val_loss: 0.4662 - val_accuracy: 0.7740\n",
      "Epoch 7/15\n",
      "4500/4500 [==============================] - 3s 758us/step - loss: 0.4100 - accuracy: 0.7915 - val_loss: 0.4497 - val_accuracy: 0.7833\n",
      "Epoch 8/15\n",
      "4500/4500 [==============================] - 3s 760us/step - loss: 0.3813 - accuracy: 0.8089 - val_loss: 0.4572 - val_accuracy: 0.7867\n",
      "Epoch 9/15\n",
      "4500/4500 [==============================] - 4s 781us/step - loss: 0.3644 - accuracy: 0.8243 - val_loss: 0.4542 - val_accuracy: 0.7840\n",
      "Epoch 10/15\n",
      "4500/4500 [==============================] - 3s 755us/step - loss: 0.3500 - accuracy: 0.8313 - val_loss: 0.4742 - val_accuracy: 0.7913\n",
      "Epoch 11/15\n",
      "4500/4500 [==============================] - 3s 760us/step - loss: 0.3369 - accuracy: 0.8405 - val_loss: 0.4713 - val_accuracy: 0.7933\n",
      "Epoch 12/15\n",
      "4500/4500 [==============================] - 3s 741us/step - loss: 0.3222 - accuracy: 0.8470 - val_loss: 0.4810 - val_accuracy: 0.7933\n",
      "Epoch 13/15\n",
      "4500/4500 [==============================] - 3s 735us/step - loss: 0.3121 - accuracy: 0.8520 - val_loss: 0.4747 - val_accuracy: 0.7993\n",
      "Epoch 14/15\n",
      "4500/4500 [==============================] - 3s 750us/step - loss: 0.3053 - accuracy: 0.8564 - val_loss: 0.4866 - val_accuracy: 0.7927\n",
      "Epoch 15/15\n",
      "4500/4500 [==============================] - 3s 733us/step - loss: 0.2970 - accuracy: 0.8635 - val_loss: 0.4936 - val_accuracy: 0.7720\n"
     ]
    }
   ],
   "source": [
    "hist = model.fit([sent1_data, sent2_data], labels, batch_size = 32, \n",
    "                 epochs = 15,\n",
    "                 validation_data= ([sent1_data_trial, sent2_data_trial],labels2 ))"
   ]
  },
  {
   "cell_type": "markdown",
   "metadata": {},
   "source": [
    "#### Model Evaluation"
   ]
  },
  {
   "cell_type": "code",
   "execution_count": 16,
   "metadata": {},
   "outputs": [
    {
     "data": {
      "image/png": "[encoded data removed]",
      "text/plain": [
       "<Figure size 432x288 with 1 Axes>"
      ]
     },
     "metadata": {
      "needs_background": "light"
     },
     "output_type": "display_data"
    },
    {
     "data": {
      "image/png": "[encoded data removed]",
      "text/plain": [
       "<Figure size 432x288 with 1 Axes>"
      ]
     },
     "metadata": {
      "needs_background": "light"
     },
     "output_type": "display_data"
    }
   ],
   "source": [
    "plot_model_training(hist)"
   ]
  },
  {
   "cell_type": "code",
   "execution_count": 22,
   "metadata": {},
   "outputs": [],
   "source": [
    "model_cnn = model"
   ]
  },
  {
   "cell_type": "code",
   "execution_count": 147,
   "metadata": {},
   "outputs": [],
   "source": [
    "k = model_cnn.predict([sent1_data_test, sent2_data_test])"
   ]
  },
  {
   "cell_type": "code",
   "execution_count": 148,
   "metadata": {},
   "outputs": [],
   "source": [
    "result = convert_prob(k)"
   ]
  },
  {
   "cell_type": "code",
   "execution_count": 149,
   "metadata": {},
   "outputs": [],
   "source": [
    "prec, rec, f1_s,acc =  evaluate_model(result, test_ann['entailment_encoded'])"
   ]
  },
  {
   "cell_type": "code",
   "execution_count": 150,
   "metadata": {},
   "outputs": [
    {
     "name": "stdout",
     "output_type": "stream",
     "text": [
      "Precision: 0.6674387819852599\n",
      "Recall: 0.6687639537243759\n",
      "F1 score: 0.6671298454580787\n",
      "Accuracy: 66.87639537243759%\n"
     ]
    }
   ],
   "source": [
    "print(\"Precision: \"+ str(prec))\n",
    "print(\"Recall: \"+ str(rec))\n",
    "print(\"F1 score: \"+ str(f1_s))\n",
    "print(\"Accuracy: \"+ str(acc*100)+\"%\")"
   ]
  },
  {
   "cell_type": "code",
   "execution_count": 151,
   "metadata": {},
   "outputs": [],
   "source": [
    "cnn_entailment = map_entailment(lbl_enc, result, test)"
   ]
  },
  {
   "cell_type": "code",
   "execution_count": 152,
   "metadata": {},
   "outputs": [],
   "source": [
    "output_csv(cnn_entailment, \"entailment_relatedness/entailment/siames_cnn_entailment.csv\", index = False)"
   ]
  },
  {
   "cell_type": "markdown",
   "metadata": {},
   "source": [
    "### GRU"
   ]
  },
  {
   "cell_type": "code",
   "execution_count": 30,
   "metadata": {},
   "outputs": [],
   "source": [
    "import tensorflow as tf"
   ]
  },
  {
   "cell_type": "code",
   "execution_count": 31,
   "metadata": {},
   "outputs": [],
   "source": [
    "m1 = models.models(embedding_dim,\n",
    "                   NUM_WORDS, \n",
    "                   embedding_weights,\n",
    "                   max_seq_length,\n",
    "                  dropout=.1)"
   ]
  },
  {
   "cell_type": "code",
   "execution_count": 32,
   "metadata": {
    "scrolled": true
   },
   "outputs": [
    {
     "name": "stdout",
     "output_type": "stream",
     "text": [
      "Model: \"sequential\"\n",
      "_________________________________________________________________\n",
      "Layer (type)                 Output Shape              Param #   \n",
      "=================================================================\n",
      "embedding (Embedding)        (None, None, 300)         692100    \n",
      "_________________________________________________________________\n",
      "bidirectional (Bidirectional (None, 600)               1083600   \n",
      "_________________________________________________________________\n",
      "dense (Dense)                (None, 300)               180300    \n",
      "_________________________________________________________________\n",
      "dense_1 (Dense)              (None, 3)                 903       \n",
      "=================================================================\n",
      "Total params: 1,956,903\n",
      "Trainable params: 1,956,903\n",
      "Non-trainable params: 0\n",
      "_________________________________________________________________\n",
      "None\n"
     ]
    }
   ],
   "source": [
    "model = m1.GRU_tf()"
   ]
  },
  {
   "cell_type": "code",
   "execution_count": 33,
   "metadata": {
    "scrolled": false
   },
   "outputs": [
    {
     "name": "stdout",
     "output_type": "stream",
     "text": [
      "Train on 4500 samples, validate on 500 samples\n",
      "Epoch 1/5\n",
      "4500/4500 [==============================] - 71s 16ms/sample - loss: 0.9468 - accuracy: 0.5620 - val_loss: 0.8798 - val_accuracy: 0.5860\n",
      "Epoch 2/5\n",
      "4500/4500 [==============================] - 69s 15ms/sample - loss: 0.8805 - accuracy: 0.5773 - val_loss: 0.9044 - val_accuracy: 0.5660\n",
      "Epoch 3/5\n",
      "4500/4500 [==============================] - 64s 14ms/sample - loss: 0.8348 - accuracy: 0.5804 - val_loss: 0.9143 - val_accuracy: 0.5720\n",
      "Epoch 4/5\n",
      "4500/4500 [==============================] - 63s 14ms/sample - loss: 0.7720 - accuracy: 0.5824 - val_loss: 1.0481 - val_accuracy: 0.5840\n",
      "Epoch 5/5\n",
      "4500/4500 [==============================] - 66s 15ms/sample - loss: 0.7209 - accuracy: 0.5802 - val_loss: 1.1604 - val_accuracy: 0.5760\n"
     ]
    }
   ],
   "source": [
    "hist = model.fit([sent1_data, sent2_data], labels, batch_size = batch_size, \n",
    "                 epochs = 5,\n",
    "                 validation_data = ([sent1_data_trial, sent2_data_trial], labels2))"
   ]
  },
  {
   "cell_type": "markdown",
   "metadata": {},
   "source": [
    "#### Model Evaluation"
   ]
  },
  {
   "cell_type": "code",
   "execution_count": 34,
   "metadata": {},
   "outputs": [
    {
     "data": {
      "image/png": "[encoded data removed]",
      "text/plain": [
       "<Figure size 432x288 with 1 Axes>"
      ]
     },
     "metadata": {
      "needs_background": "light"
     },
     "output_type": "display_data"
    },
    {
     "data": {
      "image/png": "[encoded data removed]",
      "text/plain": [
       "<Figure size 432x288 with 1 Axes>"
      ]
     },
     "metadata": {
      "needs_background": "light"
     },
     "output_type": "display_data"
    }
   ],
   "source": [
    "plot_model_training(hist)"
   ]
  },
  {
   "cell_type": "code",
   "execution_count": 40,
   "metadata": {},
   "outputs": [],
   "source": [
    "model_gru = model"
   ]
  },
  {
   "cell_type": "code",
   "execution_count": 63,
   "metadata": {},
   "outputs": [],
   "source": [
    "k = model_gru.predict([sent1_data_test, sent2_data_test])"
   ]
  },
  {
   "cell_type": "code",
   "execution_count": 64,
   "metadata": {},
   "outputs": [],
   "source": [
    "result = convert_prob(k)"
   ]
  },
  {
   "cell_type": "code",
   "execution_count": 65,
   "metadata": {},
   "outputs": [
    {
     "name": "stderr",
     "output_type": "stream",
     "text": [
      "C:\\Users\\hkpat\\Anaconda3\\lib\\site-packages\\sklearn\\metrics\\classification.py:1437: UndefinedMetricWarning: Precision is ill-defined and being set to 0.0 in labels with no predicted samples.\n",
      "  'precision', 'predicted', average, warn_for)\n",
      "C:\\Users\\hkpat\\Anaconda3\\lib\\site-packages\\sklearn\\metrics\\classification.py:1437: UndefinedMetricWarning: F-score is ill-defined and being set to 0.0 in labels with no predicted samples.\n",
      "  'precision', 'predicted', average, warn_for)\n"
     ]
    }
   ],
   "source": [
    "prec, rec, f1_score, acc = evaluate_model(test_ann['entailment_encoded'], result)"
   ]
  },
  {
   "cell_type": "code",
   "execution_count": 66,
   "metadata": {},
   "outputs": [
    {
     "name": "stdout",
     "output_type": "stream",
     "text": [
      "Precision: 0.41847040350134174\n",
      "Recall: 0.5847371625735742\n",
      "F1 score: 0.5666606408744548\n",
      "Accuracy: 58.473716257357424%\n"
     ]
    }
   ],
   "source": [
    "print(\"Precision: \"+ str(prec))\n",
    "print(\"Recall: \"+ str(rec))\n",
    "print(\"F1 score: \"+ str(f1_s))\n",
    "print(\"Accuracy: \"+ str(acc*100)+\"%\")"
   ]
  },
  {
   "cell_type": "code",
   "execution_count": 67,
   "metadata": {},
   "outputs": [],
   "source": [
    "gru_entailment = map_entailment(lbl_enc, result, test)"
   ]
  },
  {
   "cell_type": "code",
   "execution_count": 72,
   "metadata": {},
   "outputs": [],
   "source": [
    "output_csv(gru_entailment, \"entailment_relatedness/entailment/gru_entailment.csv\", index = False)"
   ]
  },
  {
   "cell_type": "markdown",
   "metadata": {},
   "source": [
    "### BiDirectional LSTM"
   ]
  },
  {
   "cell_type": "code",
   "execution_count": 121,
   "metadata": {},
   "outputs": [],
   "source": [
    "import models.models as models\n",
    "m1 = models.models(embedding_dim,\n",
    "                   NUM_WORDS, \n",
    "                   embedding_weights,\n",
    "                   max_seq_length*2\n",
    "                  )"
   ]
  },
  {
   "cell_type": "code",
   "execution_count": 122,
   "metadata": {},
   "outputs": [
    {
     "name": "stdout",
     "output_type": "stream",
     "text": [
      "Model: \"model_10\"\n",
      "__________________________________________________________________________________________________\n",
      "Layer (type)                    Output Shape         Param #     Connected to                     \n",
      "==================================================================================================\n",
      "main_input (InputLayer)         (None, 64)           0                                            \n",
      "__________________________________________________________________________________________________\n",
      "embedding_14 (Embedding)        (None, 64, 300)      692100      main_input[0][0]                 \n",
      "__________________________________________________________________________________________________\n",
      "dropout (Dropout)               (None, 64, 300)      0           embedding_14[0][0]               \n",
      "__________________________________________________________________________________________________\n",
      "lstm_fwd (LSTM)                 (None, 64, 125)      213000      dropout[0][0]                    \n",
      "__________________________________________________________________________________________________\n",
      "lstm_bwd (LSTM)                 (None, 64, 125)      213000      dropout[0][0]                    \n",
      "__________________________________________________________________________________________________\n",
      "concatenate_7 (Concatenate)     (None, 64, 250)      0           lstm_fwd[0][0]                   \n",
      "                                                                 lstm_bwd[0][0]                   \n",
      "__________________________________________________________________________________________________\n",
      "d_bilstm (Dropout)              (None, 64, 250)      0           concatenate_7[0][0]              \n",
      "__________________________________________________________________________________________________\n",
      "flat_h_star (Flatten)           (None, 16000)        0           d_bilstm[0][0]                   \n",
      "__________________________________________________________________________________________________\n",
      "dense_40 (Dense)                (None, 3)            48003       flat_h_star[0][0]                \n",
      "==================================================================================================\n",
      "Total params: 1,166,103\n",
      "Trainable params: 474,003\n",
      "Non-trainable params: 692,100\n",
      "__________________________________________________________________________________________________\n"
     ]
    },
    {
     "name": "stderr",
     "output_type": "stream",
     "text": [
      "C:\\Users\\hkpat\\Masters\\NLP\\Assignment2_final\\submission\\models\\models.py:276: UserWarning: Update your `Model` call to the Keras 2 API: `Model([<tf.Tenso..., outputs=Tensor(\"de...)`\n",
      "  model = Model([main_input], output=out)\n"
     ]
    }
   ],
   "source": [
    "model = m1.lstm_bi()"
   ]
  },
  {
   "cell_type": "code",
   "execution_count": 123,
   "metadata": {},
   "outputs": [],
   "source": [
    "sent = np.concatenate((sent1_data, sent2_data),axis= 1)"
   ]
  },
  {
   "cell_type": "code",
   "execution_count": 124,
   "metadata": {},
   "outputs": [],
   "source": [
    "sent_trial = np.concatenate((sent1_data_trial, sent2_data_trial), axis = 1)"
   ]
  },
  {
   "cell_type": "code",
   "execution_count": 125,
   "metadata": {},
   "outputs": [
    {
     "name": "stdout",
     "output_type": "stream",
     "text": [
      "Train on 4500 samples, validate on 500 samples\n",
      "Epoch 1/10\n",
      "4500/4500 [==============================] - 20s 4ms/step - loss: 0.5422 - acc: 0.7093 - val_loss: 0.5014 - val_acc: 0.7340\n",
      "Epoch 2/10\n",
      "4500/4500 [==============================] - 20s 5ms/step - loss: 0.4781 - acc: 0.7459 - val_loss: 0.4846 - val_acc: 0.7280\n",
      "Epoch 3/10\n",
      "4500/4500 [==============================] - 20s 4ms/step - loss: 0.4516 - acc: 0.7620 - val_loss: 0.4811 - val_acc: 0.7387\n",
      "Epoch 4/10\n",
      "4500/4500 [==============================] - 20s 5ms/step - loss: 0.4289 - acc: 0.7788 - val_loss: 0.4941 - val_acc: 0.7420\n",
      "Epoch 5/10\n",
      "4500/4500 [==============================] - 20s 4ms/step - loss: 0.4114 - acc: 0.7901 - val_loss: 0.4988 - val_acc: 0.7373\n",
      "Epoch 6/10\n",
      "4500/4500 [==============================] - 20s 4ms/step - loss: 0.3957 - acc: 0.8020 - val_loss: 0.5403 - val_acc: 0.7320\n",
      "Epoch 7/10\n",
      "4500/4500 [==============================] - 20s 4ms/step - loss: 0.3744 - acc: 0.8194 - val_loss: 0.5463 - val_acc: 0.7127\n",
      "Epoch 8/10\n",
      "4500/4500 [==============================] - 20s 4ms/step - loss: 0.3461 - acc: 0.8361 - val_loss: 0.5779 - val_acc: 0.7187\n",
      "Epoch 9/10\n",
      "4500/4500 [==============================] - 20s 4ms/step - loss: 0.3248 - acc: 0.8514 - val_loss: 0.5956 - val_acc: 0.7153\n",
      "Epoch 10/10\n",
      "4500/4500 [==============================] - 20s 5ms/step - loss: 0.3031 - acc: 0.8630 - val_loss: 0.6268 - val_acc: 0.7133\n"
     ]
    }
   ],
   "source": [
    "hist = model.fit(sent, labels, batch_size = 32, \n",
    "                 epochs = 10,\n",
    "                 validation_data = (sent_trial, labels2))"
   ]
  },
  {
   "cell_type": "markdown",
   "metadata": {},
   "source": [
    "#### Model evaluation"
   ]
  },
  {
   "cell_type": "code",
   "execution_count": 126,
   "metadata": {},
   "outputs": [],
   "source": [
    "bilstm_model = model"
   ]
  },
  {
   "cell_type": "code",
   "execution_count": 127,
   "metadata": {},
   "outputs": [],
   "source": [
    "sent_test = np.concatenate((sent1_data_test, sent2_data_test), axis =1)"
   ]
  },
  {
   "cell_type": "code",
   "execution_count": 129,
   "metadata": {},
   "outputs": [],
   "source": [
    "k= bilstm_model.predict(sent_test)"
   ]
  },
  {
   "cell_type": "code",
   "execution_count": 130,
   "metadata": {},
   "outputs": [],
   "source": [
    "result = convert_prob(k)"
   ]
  },
  {
   "cell_type": "code",
   "execution_count": 131,
   "metadata": {},
   "outputs": [],
   "source": [
    "prec, rec, f1_s, acc = evaluate_model(list(test_ann['entailment_encoded']), list(predicted_val))"
   ]
  },
  {
   "cell_type": "code",
   "execution_count": 132,
   "metadata": {},
   "outputs": [
    {
     "name": "stdout",
     "output_type": "stream",
     "text": [
      "Precision: 0.6234360088659568\n",
      "Recall: 0.6021920032474122\n",
      "F1 score: 0.5282245863020105\n",
      "Accuracy: 60.219200324741216%\n"
     ]
    }
   ],
   "source": [
    "print(\"Precision: \"+ str(prec))\n",
    "print(\"Recall: \"+ str(rec))\n",
    "print(\"F1 score: \"+ str(f1_s))\n",
    "print(\"Accuracy: \"+ str(acc*100)+\"%\")"
   ]
  },
  {
   "cell_type": "code",
   "execution_count": 136,
   "metadata": {},
   "outputs": [],
   "source": [
    "bilstm_entailment = map_entailment(lbl_enc, result, test)"
   ]
  },
  {
   "cell_type": "code",
   "execution_count": 135,
   "metadata": {},
   "outputs": [],
   "source": [
    "output_csv(bilstm_entailment, \"entailment_relatedness/entailment/bilstm_entailment.csv\", index = False)"
   ]
  },
  {
   "cell_type": "markdown",
   "metadata": {},
   "source": [
    "###  CNN-2"
   ]
  },
  {
   "cell_type": "code",
   "execution_count": 74,
   "metadata": {},
   "outputs": [],
   "source": [
    "## Simple Neural network\n",
    "left_input= Input(shape = (max_seq_length,))\n",
    "right_input = Input(shape = (max_seq_length,))\n",
    "\n",
    "embedding_layer = Embedding(\n",
    "        len(embedding_weights),\n",
    "        embedding_dim,\n",
    "        weights = [embedding_weights],\n",
    "        input_length = max_seq_length,\n",
    "        trainable = False)\n",
    "x = embedding_layer(left_input)\n",
    "x = Conv1D(16,3)(x)\n",
    "x = GlobalMaxPooling1D()(x)\n",
    "x = Dense(120, activation='relu')(x)\n",
    "\n",
    "y = embedding_layer(right_input)\n",
    "y  = Conv1D(16,3)(y)\n",
    "y = GlobalMaxPooling1D()(y)\n",
    "y = Dense(120, activation='relu')(y)\n",
    "l1_norm = lambda x: 1 - K.abs(x[0] - x[1])\n",
    "merged = layers.Lambda(function=l1_norm, output_shape=lambda x: x[0], \n",
    "                               name='L1_distance')([x, y])\n",
    "predictions = layers.Dense(3, activation='sigmoid', name='Similarity_layer')(merged)"
   ]
  },
  {
   "cell_type": "code",
   "execution_count": 76,
   "metadata": {},
   "outputs": [],
   "source": [
    "model = Model([left_input, right_input], predictions)\n",
    "model.compile(loss='categorical_crossentropy', optimizer='adam', metrics=['accuracy'])"
   ]
  },
  {
   "cell_type": "code",
   "execution_count": 77,
   "metadata": {},
   "outputs": [
    {
     "name": "stdout",
     "output_type": "stream",
     "text": [
      "Train on 4500 samples, validate on 500 samples\n",
      "Epoch 1/7\n",
      "4500/4500 [==============================] - 2s 413us/step - loss: 0.8394 - accuracy: 0.5782 - val_loss: 0.7541 - val_accuracy: 0.6080\n",
      "Epoch 2/7\n",
      "4500/4500 [==============================] - 2s 366us/step - loss: 0.7181 - accuracy: 0.6247 - val_loss: 0.7303 - val_accuracy: 0.6240\n",
      "Epoch 3/7\n",
      "4500/4500 [==============================] - 3s 594us/step - loss: 0.6749 - accuracy: 0.6396 - val_loss: 0.7576 - val_accuracy: 0.6340\n",
      "Epoch 4/7\n",
      "4500/4500 [==============================] - 3s 633us/step - loss: 0.6310 - accuracy: 0.6580 - val_loss: 0.7314 - val_accuracy: 0.6300\n",
      "Epoch 5/7\n",
      "4500/4500 [==============================] - 3s 666us/step - loss: 0.5897 - accuracy: 0.7018 - val_loss: 0.7846 - val_accuracy: 0.6120\n",
      "Epoch 6/7\n",
      "4500/4500 [==============================] - 3s 625us/step - loss: 0.5302 - accuracy: 0.7309 - val_loss: 0.8215 - val_accuracy: 0.6080\n",
      "Epoch 7/7\n",
      "4500/4500 [==============================] - 3s 654us/step - loss: 0.4889 - accuracy: 0.7553 - val_loss: 0.9098 - val_accuracy: 0.5680\n"
     ]
    }
   ],
   "source": [
    "hist = model.fit([sent1_data, sent2_data], labels, batch_size = batch_size, \n",
    "                 epochs = 7,\n",
    "                 validation_data = ([sent1_data_trial, sent2_data_trial], labels2))"
   ]
  },
  {
   "cell_type": "markdown",
   "metadata": {},
   "source": [
    "#### Model evaluation"
   ]
  },
  {
   "cell_type": "code",
   "execution_count": 81,
   "metadata": {},
   "outputs": [
    {
     "data": {
      "image/png": "[encoded data removed]",
      "text/plain": [
       "<Figure size 432x288 with 1 Axes>"
      ]
     },
     "metadata": {
      "needs_background": "light"
     },
     "output_type": "display_data"
    },
    {
     "data": {
      "image/png": "[encoded data removed]",
      "text/plain": [
       "<Figure size 432x288 with 1 Axes>"
      ]
     },
     "metadata": {
      "needs_background": "light"
     },
     "output_type": "display_data"
    }
   ],
   "source": [
    "plot_model_training(hist)"
   ]
  },
  {
   "cell_type": "code",
   "execution_count": 82,
   "metadata": {},
   "outputs": [],
   "source": [
    "k= model.predict([sent1_data_test, sent2_data_test])"
   ]
  },
  {
   "cell_type": "code",
   "execution_count": 83,
   "metadata": {},
   "outputs": [],
   "source": [
    "predicted_val = convert_prob(k)"
   ]
  },
  {
   "cell_type": "code",
   "execution_count": 84,
   "metadata": {},
   "outputs": [],
   "source": [
    "prec, rec, f1_s, acc = evaluate_model(list(test_ann['entailment_encoded']), list(predicted_val))"
   ]
  },
  {
   "cell_type": "code",
   "execution_count": 86,
   "metadata": {},
   "outputs": [
    {
     "name": "stdout",
     "output_type": "stream",
     "text": [
      "Precision: 0.5810059493259278\n",
      "Recall: 0.5571341587172721\n",
      "F1 score: 0.5600149457848421\n",
      "Accuracy: 55.713415871727214%\n"
     ]
    }
   ],
   "source": [
    "print(\"Precision: \"+ str(prec))\n",
    "print(\"Recall: \"+ str(rec))\n",
    "print(\"F1 score: \"+ str(f1_s))\n",
    "print(\"Accuracy: \"+ str(acc*100)+\"%\")"
   ]
  },
  {
   "cell_type": "markdown",
   "metadata": {},
   "source": [
    "### Deep RNN"
   ]
  },
  {
   "cell_type": "code",
   "execution_count": 95,
   "metadata": {},
   "outputs": [],
   "source": [
    "from keras.layers import TimeDistributed\n",
    "from keras.layers import Lambda\n",
    "from keras.layers import concatenate, Dropout, BatchNormalization"
   ]
  },
  {
   "cell_type": "code",
   "execution_count": 139,
   "metadata": {},
   "outputs": [],
   "source": [
    "input_1 = Input(shape=(max_seq_length,))\n",
    "input_2 = Input(shape=(max_seq_length,))\n",
    "\n",
    "left_input = Embedding(input_dim=NUM_WORDS,\n",
    "               output_dim=embedding_dim,\n",
    "               weights=[embedding_weights],\n",
    "               input_length=max_seq_length,\n",
    "               trainable=False)(input_1)\n",
    "left_input = TimeDistributed(Dense(300, activation='relu'))(left_input)\n",
    "left_input = Lambda(lambda x: K.max(x, axis=1), output_shape=(300,))(left_input)\n",
    "\n",
    "right_input = Embedding(input_dim=NUM_WORDS,\n",
    "               output_dim=300,\n",
    "               weights=[embedding_weights],\n",
    "               input_length=max_seq_length,\n",
    "               trainable=False)(input_2)\n",
    "right_input = TimeDistributed(Dense(300, activation='relu'))(right_input)\n",
    "right_input = Lambda(lambda x: K.max(x, axis=1), output_shape=(300,))(right_input)\n",
    "\n",
    "x = concatenate([left_input, right_input])\n",
    "x = Dense(200, activation='relu')(x)\n",
    "x = Dropout(0.1)(x)\n",
    "x = BatchNormalization()(x)\n",
    "x = Dense(200, activation='relu')(x)\n",
    "x = Dropout(0.1)(x)\n",
    "x = BatchNormalization()(x)\n",
    "x = Dense(200, activation='relu')(x)\n",
    "x = Dropout(0.1)(x)\n",
    "x = BatchNormalization()(x)\n",
    "x = Dense(200, activation='relu')(x)\n",
    "x = Dropout(0.1)(x)\n",
    "x = BatchNormalization()(x)\n",
    "\n",
    "out = Dense(3, activation='sigmoid')(x)\n",
    "\n",
    "model = Model(inputs=[input_1, input_2], outputs=out)\n",
    "model.compile(loss='binary_crossentropy', optimizer=Adam(), metrics=['accuracy'])"
   ]
  },
  {
   "cell_type": "code",
   "execution_count": 140,
   "metadata": {
    "scrolled": true
   },
   "outputs": [
    {
     "name": "stdout",
     "output_type": "stream",
     "text": [
      "Train on 4500 samples, validate on 500 samples\n",
      "Epoch 1/10\n",
      "4500/4500 [==============================] - 3s 633us/step - loss: 0.7065 - accuracy: 0.5999 - val_loss: 0.5549 - val_accuracy: 0.7227\n",
      "Epoch 2/10\n",
      "4500/4500 [==============================] - 3s 742us/step - loss: 0.5670 - accuracy: 0.6953 - val_loss: 0.5213 - val_accuracy: 0.7260\n",
      "Epoch 3/10\n",
      "4500/4500 [==============================] - 3s 777us/step - loss: 0.5229 - accuracy: 0.7107 - val_loss: 0.5104 - val_accuracy: 0.7440\n",
      "Epoch 4/10\n",
      "4500/4500 [==============================] - 3s 775us/step - loss: 0.4950 - accuracy: 0.7303 - val_loss: 0.4883 - val_accuracy: 0.7267\n",
      "Epoch 5/10\n",
      "4500/4500 [==============================] - 3s 738us/step - loss: 0.4774 - accuracy: 0.7364 - val_loss: 0.5284 - val_accuracy: 0.7213\n",
      "Epoch 6/10\n",
      "4500/4500 [==============================] - 4s 844us/step - loss: 0.4449 - accuracy: 0.7647 - val_loss: 0.5216 - val_accuracy: 0.6900\n",
      "Epoch 7/10\n",
      "4500/4500 [==============================] - 4s 792us/step - loss: 0.4401 - accuracy: 0.7670 - val_loss: 0.7222 - val_accuracy: 0.6133\n",
      "Epoch 8/10\n",
      "4500/4500 [==============================] - 4s 860us/step - loss: 0.4239 - accuracy: 0.7873 - val_loss: 0.7116 - val_accuracy: 0.6680\n",
      "Epoch 9/10\n",
      "4500/4500 [==============================] - 4s 826us/step - loss: 0.4078 - accuracy: 0.7930 - val_loss: 1.6226 - val_accuracy: 0.6013\n",
      "Epoch 10/10\n",
      "4500/4500 [==============================] - 4s 834us/step - loss: 0.3831 - accuracy: 0.8156 - val_loss: 0.5172 - val_accuracy: 0.7447\n"
     ]
    }
   ],
   "source": [
    "hist = model.fit([sent1_data, sent2_data], labels, batch_size = 32, \n",
    "                 epochs = 10,\n",
    "                 validation_data = ([sent1_data_trial, sent2_data_trial], labels2))"
   ]
  },
  {
   "cell_type": "markdown",
   "metadata": {},
   "source": [
    "#### Model evaluation"
   ]
  },
  {
   "cell_type": "code",
   "execution_count": 141,
   "metadata": {},
   "outputs": [],
   "source": [
    "k= model.predict([sent1_data_test, sent2_data_test])"
   ]
  },
  {
   "cell_type": "code",
   "execution_count": 142,
   "metadata": {},
   "outputs": [],
   "source": [
    "result = convert_prob(k)"
   ]
  },
  {
   "cell_type": "code",
   "execution_count": 143,
   "metadata": {},
   "outputs": [],
   "source": [
    "prec, rec, f1_s, acc = evaluate_model(list(test_ann['entailment_encoded']), list(predicted_val))"
   ]
  },
  {
   "cell_type": "code",
   "execution_count": 144,
   "metadata": {},
   "outputs": [
    {
     "name": "stdout",
     "output_type": "stream",
     "text": [
      "Precision: 0.6234360088659568\n",
      "Recall: 0.6021920032474122\n",
      "F1 score: 0.5282245863020105\n",
      "Accuracy: 60.219200324741216%\n"
     ]
    }
   ],
   "source": [
    "print(\"Precision: \"+ str(prec))\n",
    "print(\"Recall: \"+ str(rec))\n",
    "print(\"F1 score: \"+ str(f1_s))\n",
    "print(\"Accuracy: \"+ str(acc*100)+\"%\")"
   ]
  },
  {
   "cell_type": "code",
   "execution_count": 145,
   "metadata": {},
   "outputs": [
    {
     "name": "stderr",
     "output_type": "stream",
     "text": [
      "C:\\Users\\hkpat\\Masters\\NLP\\Assignment2_final\\submission\\functions\\data_manipulation.py:41: SettingWithCopyWarning: \n",
      "A value is trying to be set on a copy of a slice from a DataFrame.\n",
      "Try using .loc[row_indexer,col_indexer] = value instead\n",
      "\n",
      "See the caveats in the documentation: http://pandas.pydata.org/pandas-docs/stable/user_guide/indexing.html#returning-a-view-versus-a-copy\n",
      "  df['entailment_judgment'] =  entailment_result\n"
     ]
    }
   ],
   "source": [
    "deeprnn_entailment = map_entailment(lbl_enc, result, test)"
   ]
  },
  {
   "cell_type": "code",
   "execution_count": 146,
   "metadata": {},
   "outputs": [],
   "source": [
    "output_csv(bilstm_entailment, \"entailment_relatedness/entailment/deeprnn_entailment.csv\", index = False)"
   ]
  }
 ],
 "metadata": {
  "kernelspec": {
   "display_name": "Python 3",
   "language": "python",
   "name": "python3"
  },
  "language_info": {
   "codemirror_mode": {
    "name": "ipython",
    "version": 3
   },
   "file_extension": ".py",
   "mimetype": "text/x-python",
   "name": "python",
   "nbconvert_exporter": "python",
   "pygments_lexer": "ipython3",
   "version": "3.7.4"
  }
 },
 "nbformat": 4,
 "nbformat_minor": 2
}
